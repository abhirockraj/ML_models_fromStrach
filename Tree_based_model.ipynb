{
 "cells": [
  {
   "cell_type": "code",
   "execution_count": 1,
   "id": "f83a956f-e019-4e34-a2e5-7f240821e164",
   "metadata": {},
   "outputs": [],
   "source": [
    "import pandas as pd\n",
    "import numpy as np\n",
    "from matplotlib import pyplot as plt\n",
    "from sklearn.model_selection import train_test_split\n",
    "import seaborn as sns\n",
    "from sklearn import tree\n",
    "from imblearn.over_sampling import SMOTE"
   ]
  },
  {
   "cell_type": "code",
   "execution_count": 2,
   "id": "65585278-675d-4b77-b3e4-5a934b3c14ff",
   "metadata": {},
   "outputs": [],
   "source": [
    "df = pd.read_csv(\"neo.csv\",index_col=False)\n",
    "df = df.drop([\"id\",\"name\",\"orbiting_body\",\"sentry_object\"],axis=1)\n",
    "df[\"hazardous\"] = np.where(df[\"hazardous\"] == False, 0, 1)\n",
    "x = df.drop([\"hazardous\"],axis=1)\n",
    "y= df[\"hazardous\"]"
   ]
  },
  {
   "cell_type": "code",
   "execution_count": 3,
   "id": "2e07ae5a-af8a-4096-a556-73ca98f24cfc",
   "metadata": {},
   "outputs": [],
   "source": [
    "X_train, X_test, y_train, y_test = train_test_split(x, y, random_state=42, train_size = 0.9)"
   ]
  },
  {
   "cell_type": "code",
   "execution_count": 4,
   "id": "df56eebe-0a45-4f48-bc50-f11d5db6b217",
   "metadata": {},
   "outputs": [
    {
     "name": "stdout",
     "output_type": "stream",
     "text": [
      "Before OverSampling, counts of label '1': 7988\n",
      "Before OverSampling, counts of label '0': 73764 \n",
      "\n",
      "After OverSampling, counts of label '1': 73764\n",
      "After OverSampling, counts of label '0': 73764\n"
     ]
    }
   ],
   "source": [
    "print(\"Before OverSampling, counts of label '1': {}\".format(sum(y_train == 1)))\n",
    "print(\"Before OverSampling, counts of label '0': {} \\n\".format(sum(y_train == 0)))\n",
    "\n",
    "# import SMOTE module from imblearn library\n",
    "\n",
    "sm = SMOTE(random_state = 10)\n",
    "X_trainN, y_trainN = sm.fit_resample(X_train, y_train)\n",
    "\n",
    "\n",
    "\n",
    "print(\"After OverSampling, counts of label '1': {}\".format(sum(y_trainN == 1)))\n",
    "print(\"After OverSampling, counts of label '0': {}\".format(sum(y_trainN == 0)))\n"
   ]
  },
  {
   "cell_type": "markdown",
   "id": "75acf4fa-bd9d-4162-b733-473adce82359",
   "metadata": {},
   "source": [
    "## Decision Tree"
   ]
  },
  {
   "cell_type": "code",
   "execution_count": 7,
   "id": "27c69206-e99f-4dbc-8222-9036ec758925",
   "metadata": {},
   "outputs": [],
   "source": [
    "model = tree.DecisionTreeClassifier()"
   ]
  },
  {
   "cell_type": "code",
   "execution_count": 8,
   "id": "79bb45f1-9775-4c40-b2c2-67c5048b84f4",
   "metadata": {},
   "outputs": [],
   "source": [
    "model = model.fit(X_train,y_train)"
   ]
  },
  {
   "cell_type": "code",
   "execution_count": 9,
   "id": "b4a0d1eb-17c7-472a-9e4d-f0eb4916ee5f",
   "metadata": {},
   "outputs": [],
   "source": [
    "yhat = model.predict(X_test)"
   ]
  },
  {
   "cell_type": "code",
   "execution_count": 10,
   "id": "59d36340-d636-4e2f-9053-56e18513b47f",
   "metadata": {},
   "outputs": [
    {
     "data": {
      "text/plain": [
       "0.9026860413914575"
      ]
     },
     "execution_count": 10,
     "metadata": {},
     "output_type": "execute_result"
    }
   ],
   "source": [
    "from sklearn.metrics import f1_score\n",
    "f1_score(y_test, yhat, average='micro')"
   ]
  },
  {
   "cell_type": "code",
   "execution_count": 11,
   "id": "2b5644f0-54e9-4742-ae1b-604555769ccc",
   "metadata": {},
   "outputs": [
    {
     "name": "stdout",
     "output_type": "stream",
     "text": [
      "              precision    recall  f1-score   support\n",
      "\n",
      "       false       0.95      0.95      0.95      8232\n",
      "        true       0.48      0.48      0.48       852\n",
      "\n",
      "    accuracy                           0.90      9084\n",
      "   macro avg       0.71      0.71      0.71      9084\n",
      "weighted avg       0.90      0.90      0.90      9084\n",
      "\n"
     ]
    }
   ],
   "source": [
    "from sklearn.metrics import classification_report\n",
    "target_name=['false','true']\n",
    "print(classification_report(y_test, yhat, target_names=target_name))"
   ]
  },
  {
   "cell_type": "markdown",
   "id": "6d38846b-2b54-4138-a641-40fac4103d1f",
   "metadata": {},
   "source": [
    "## Random Forest classification"
   ]
  },
  {
   "cell_type": "code",
   "execution_count": 12,
   "id": "10831d81-5eb6-46da-9483-8da0ff74e8a6",
   "metadata": {},
   "outputs": [],
   "source": [
    "from sklearn.ensemble import RandomForestClassifier"
   ]
  },
  {
   "cell_type": "code",
   "execution_count": 13,
   "id": "1282a78b-55ad-421f-8812-f7625e228622",
   "metadata": {},
   "outputs": [],
   "source": [
    "model = RandomForestClassifier(n_estimators=1000,\n",
    "                               criterion='gini', \n",
    "                               max_depth=None,\n",
    "                               min_samples_split=2, \n",
    "                               min_samples_leaf=1,\n",
    "                               min_weight_fraction_leaf=0.0, \n",
    "                               max_features=None, \n",
    "                               max_leaf_nodes=None,\n",
    "                               min_impurity_decrease=0.0,\n",
    "                               bootstrap=True, \n",
    "                               oob_score=False,\n",
    "                               n_jobs=-1,\n",
    "                               random_state=3,\n",
    "                               verbose=0, \n",
    "                               warm_start=False,\n",
    "                               class_weight=None,\n",
    "                               ccp_alpha=0.0,\n",
    "                               max_samples=0.1)"
   ]
  },
  {
   "cell_type": "code",
   "execution_count": 14,
   "id": "c25fdc5f-805d-4c6b-adca-24135775fc5b",
   "metadata": {},
   "outputs": [],
   "source": [
    "model= model.fit(X_train, y_train)"
   ]
  },
  {
   "cell_type": "code",
   "execution_count": 15,
   "id": "89b0e32d-8414-4b56-9f35-bcbff14f9a10",
   "metadata": {},
   "outputs": [],
   "source": [
    "yhat = model.predict(X_test)"
   ]
  },
  {
   "cell_type": "code",
   "execution_count": 16,
   "id": "3423d98a-e190-4f5d-80c3-876c5ad2c95a",
   "metadata": {},
   "outputs": [
    {
     "data": {
      "text/plain": [
       "0.916116248348745"
      ]
     },
     "execution_count": 16,
     "metadata": {},
     "output_type": "execute_result"
    }
   ],
   "source": [
    "f1_score(y_test, yhat, average='micro')"
   ]
  },
  {
   "cell_type": "code",
   "execution_count": 17,
   "id": "4c44767c-6948-45c9-9eca-7563fda944aa",
   "metadata": {},
   "outputs": [
    {
     "name": "stdout",
     "output_type": "stream",
     "text": [
      "              precision    recall  f1-score   support\n",
      "\n",
      "       false       0.92      0.99      0.96      8232\n",
      "        true       0.69      0.19      0.30       852\n",
      "\n",
      "    accuracy                           0.92      9084\n",
      "   macro avg       0.81      0.59      0.63      9084\n",
      "weighted avg       0.90      0.92      0.89      9084\n",
      "\n"
     ]
    }
   ],
   "source": [
    "target_name=['false','true']\n",
    "print(classification_report(y_test, yhat, target_names=target_name))"
   ]
  },
  {
   "cell_type": "markdown",
   "id": "3bc6591f-0746-4a20-90f0-8608d7cb5dbf",
   "metadata": {},
   "source": [
    "## XGBoost "
   ]
  },
  {
   "cell_type": "code",
   "execution_count": 19,
   "id": "4ee9add5-1908-45e2-b638-1a944335deeb",
   "metadata": {},
   "outputs": [],
   "source": [
    "from xgboost import XGBClassifier as xgbc"
   ]
  },
  {
   "cell_type": "code",
   "execution_count": 20,
   "id": "6218fa8f-8e6b-43f3-ba43-b269928f7ed4",
   "metadata": {},
   "outputs": [],
   "source": [
    "model =  xgbc(n_estimators =1000, n_jobs=-1,eval_metric=\"auc\")"
   ]
  },
  {
   "cell_type": "code",
   "execution_count": 21,
   "id": "95033749-61e4-4f70-88dc-cd24132d1ff8",
   "metadata": {},
   "outputs": [
    {
     "name": "stderr",
     "output_type": "stream",
     "text": [
      "D:\\anaconda3\\lib\\site-packages\\xgboost\\sklearn.py:793: UserWarning: `early_stopping_rounds` in `fit` method is deprecated for better compatibility with scikit-learn, use `early_stopping_rounds` in constructor or`set_params` instead.\n",
      "  warnings.warn(\n"
     ]
    }
   ],
   "source": [
    "evaluation = [( X_train, y_train), ( X_test, y_test)]\n",
    "model=model.fit(X_train, y_train,\n",
    "            eval_set=evaluation,\n",
    "            early_stopping_rounds=10,verbose=False)"
   ]
  },
  {
   "cell_type": "code",
   "execution_count": 22,
   "id": "fa7e87fe-4cde-4194-b56a-f061edbc0a93",
   "metadata": {},
   "outputs": [],
   "source": [
    "yhat = model.predict(X_test)"
   ]
  },
  {
   "cell_type": "code",
   "execution_count": 23,
   "id": "8ae8c9ef-a6a8-4a7f-b2a6-4e68a8918534",
   "metadata": {},
   "outputs": [
    {
     "data": {
      "text/plain": [
       "0.9200792602377807"
      ]
     },
     "execution_count": 23,
     "metadata": {},
     "output_type": "execute_result"
    }
   ],
   "source": [
    "f1_score(y_test, yhat, average='micro')"
   ]
  },
  {
   "cell_type": "code",
   "execution_count": 24,
   "id": "e19f1bbc-0e80-456a-bfec-b023969621b5",
   "metadata": {},
   "outputs": [
    {
     "name": "stdout",
     "output_type": "stream",
     "text": [
      "              precision    recall  f1-score   support\n",
      "\n",
      "       false       0.93      0.99      0.96      8232\n",
      "        true       0.72      0.24      0.36       852\n",
      "\n",
      "    accuracy                           0.92      9084\n",
      "   macro avg       0.82      0.62      0.66      9084\n",
      "weighted avg       0.91      0.92      0.90      9084\n",
      "\n"
     ]
    }
   ],
   "source": [
    "target_name=['false','true']\n",
    "print(classification_report(y_test, yhat, target_names=target_name))"
   ]
  },
  {
   "cell_type": "code",
   "execution_count": 26,
   "id": "e8803c08-4c8e-4422-b8d0-4d7e3f10cf61",
   "metadata": {},
   "outputs": [
    {
     "data": {
      "image/png": "[encoded data removed]",
      "text/plain": [
       "<Figure size 432x288 with 2 Axes>"
      ]
     },
     "metadata": {
      "needs_background": "light"
     },
     "output_type": "display_data"
    }
   ],
   "source": [
    "from sklearn.metrics import *\n",
    "\n",
    "confusion_matrix = confusion_matrix(y_test, yhat)\n",
    "\n",
    "cm_display = ConfusionMatrixDisplay(confusion_matrix = confusion_matrix, display_labels = [0, 1])\n",
    "\n",
    "cm_display.plot()\n",
    "plt.show()"
   ]
  },
  {
   "cell_type": "code",
   "execution_count": null,
   "id": "724c0e3c-8341-4862-80ca-c384bb5d5ce7",
   "metadata": {},
   "outputs": [],
   "source": []
  }
 ],
 "metadata": {
  "kernelspec": {
   "display_name": "Python 3 (ipykernel)",
   "language": "python",
   "name": "python3"
  },
  "language_info": {
   "codemirror_mode": {
    "name": "ipython",
    "version": 3
   },
   "file_extension": ".py",
   "mimetype": "text/x-python",
   "name": "python",
   "nbconvert_exporter": "python",
   "pygments_lexer": "ipython3",
   "version": "3.9.12"
  }
 },
 "nbformat": 4,
 "nbformat_minor": 5
}
