{
 "cells": [
  {
   "cell_type": "code",
   "execution_count": 1,
   "id": "c5afa821-c595-45a0-9bf9-117719191953",
   "metadata": {},
   "outputs": [],
   "source": [
    "import pandas as pd\n",
    "import numpy as np\n",
    "from matplotlib import pyplot as plt\n",
    "from sklearn.preprocessing import StandardScaler\n",
    "from sklearn.model_selection import train_test_split"
   ]
  },
  {
   "cell_type": "code",
   "execution_count": 2,
   "id": "f5f5a829-54ff-4581-8382-d2226ac5b149",
   "metadata": {},
   "outputs": [],
   "source": [
    "df = pd.read_csv(\"neo.csv\",index_col=False)\n",
    "df = df.drop([\"id\",\"name\",\"orbiting_body\",\"sentry_object\"],axis=1)\n",
    "df[\"hazardous\"] = np.where(df[\"hazardous\"] == False, 0, 1)\n",
    "x = df.drop([\"hazardous\"],axis=1)\n",
    "y= df[\"hazardous\"]"
   ]
  },
  {
   "cell_type": "code",
   "execution_count": 3,
   "id": "a005dcce-5777-48fb-9f11-ac5aca0ba090",
   "metadata": {},
   "outputs": [],
   "source": [
    "x=StandardScaler().fit_transform(x)"
   ]
  },
  {
   "cell_type": "code",
   "execution_count": 4,
   "id": "5e6f2f3e-8da7-4d74-9f53-78ff751811d4",
   "metadata": {},
   "outputs": [],
   "source": [
    "X_train, X_test, y_train, y_test = train_test_split(x, y, random_state=20, train_size = 0.80)"
   ]
  },
  {
   "cell_type": "code",
   "execution_count": 5,
   "id": "9d11acaa-649c-46cf-bbe2-9a717707f198",
   "metadata": {},
   "outputs": [],
   "source": [
    "X_train = np.asarray(X_train)\n",
    "y_train = np.asarray(y_train)"
   ]
  },
  {
   "cell_type": "code",
   "execution_count": 6,
   "id": "3341f4a0-3070-41d4-bb4a-8a4aac6ca4a5",
   "metadata": {},
   "outputs": [],
   "source": [
    "X_test = np.asarray(X_test)\n",
    "y_test = np.asarray(y_test)"
   ]
  },
  {
   "cell_type": "code",
   "execution_count": 7,
   "id": "094a922b-619c-4dc1-8225-cac146e3d6fb",
   "metadata": {},
   "outputs": [],
   "source": [
    "import tensorflow as tf\n",
    "from tensorflow.keras import Sequential\n",
    "from tensorflow.keras.layers import Dense\n",
    "from tensorflow.keras.losses import BinaryCrossentropy\n",
    "from tensorflow.keras.callbacks import TensorBoard as tb\n",
    "from tensorflow.keras.optimizers import Adam\n",
    "from tensorflow.keras.callbacks import EarlyStopping"
   ]
  },
  {
   "cell_type": "code",
   "execution_count": 8,
   "id": "9c2a3fee-fc21-4b61-b0ca-6ac16affba28",
   "metadata": {},
   "outputs": [],
   "source": [
    "tbCallbacks = tb(log_dir=\"logs/\", histogram_freq=1)\n",
    "EScallback =EarlyStopping(monitor='loss', patience=3)"
   ]
  },
  {
   "cell_type": "code",
   "execution_count": 10,
   "id": "51f20eee-7d3f-4969-be16-a846edbcf15f",
   "metadata": {},
   "outputs": [
    {
     "name": "stdout",
     "output_type": "stream",
     "text": [
      "Model: \"sequential_1\"\n",
      "_________________________________________________________________\n",
      " Layer (type)                Output Shape              Param #   \n",
      "=================================================================\n",
      " dense_7 (Dense)             (None, 10)                60        \n",
      "                                                                 \n",
      " dense_8 (Dense)             (None, 20)                220       \n",
      "                                                                 \n",
      " dense_9 (Dense)             (None, 40)                840       \n",
      "                                                                 \n",
      " dense_10 (Dense)            (None, 30)                1230      \n",
      "                                                                 \n",
      " dense_11 (Dense)            (None, 15)                465       \n",
      "                                                                 \n",
      " dense_12 (Dense)            (None, 1)                 16        \n",
      "                                                                 \n",
      "=================================================================\n",
      "Total params: 2,831\n",
      "Trainable params: 2,831\n",
      "Non-trainable params: 0\n",
      "_________________________________________________________________\n"
     ]
    }
   ],
   "source": [
    "model = Sequential([\n",
    "    Dense(units=10,activation='relu',input_shape=(X_train.shape[1:])),\n",
    "    # Dense(units=10,activation='sigmoid'),\n",
    "    Dense(units=20,activation='relu'),\n",
    "    Dense(units=40,activation='sigmoid'),\n",
    "    Dense(units=30,activation='relu'),\n",
    "    Dense(units=15,activation='sigmoid'),\n",
    "    # Dense(units=20,activation='relu'),\n",
    "    # Dense(units=5,activation='relu'),\n",
    "    Dense(units=1,activation='linear')\n",
    "    ])\n",
    "model.compile(optimizer=Adam(learning_rate=1e-2),loss=BinaryCrossentropy(from_logits=True),metrics=['accuracy'])\n",
    "model.summary()"
   ]
  },
  {
   "cell_type": "code",
   "execution_count": 11,
   "id": "4a8fdcc5-5ddd-4d9a-9c07-5bf466aee583",
   "metadata": {},
   "outputs": [
    {
     "name": "stdout",
     "output_type": "stream",
     "text": [
      "Epoch 1/100\n",
      "1817/1817 - 2s - loss: 0.2099 - accuracy: 0.9015 - val_loss: 0.2004 - val_accuracy: 0.9060 - 2s/epoch - 1ms/step\n",
      "Epoch 2/100\n",
      "1817/1817 - 1s - loss: 0.1979 - accuracy: 0.9017 - val_loss: 0.1878 - val_accuracy: 0.9060 - 1s/epoch - 753us/step\n",
      "Epoch 3/100\n",
      "1817/1817 - 1s - loss: 0.1930 - accuracy: 0.9065 - val_loss: 0.1907 - val_accuracy: 0.9144 - 1s/epoch - 747us/step\n",
      "Epoch 4/100\n",
      "1817/1817 - 1s - loss: 0.1920 - accuracy: 0.9089 - val_loss: 0.1837 - val_accuracy: 0.9133 - 1s/epoch - 747us/step\n",
      "Epoch 5/100\n",
      "1817/1817 - 1s - loss: 0.1917 - accuracy: 0.9086 - val_loss: 0.1833 - val_accuracy: 0.9145 - 1s/epoch - 747us/step\n",
      "Epoch 6/100\n",
      "1817/1817 - 1s - loss: 0.1915 - accuracy: 0.9085 - val_loss: 0.1865 - val_accuracy: 0.9150 - 1s/epoch - 757us/step\n",
      "Epoch 7/100\n",
      "1817/1817 - 1s - loss: 0.1926 - accuracy: 0.9092 - val_loss: 0.1843 - val_accuracy: 0.9152 - 1s/epoch - 747us/step\n",
      "Epoch 8/100\n",
      "1817/1817 - 1s - loss: 0.1913 - accuracy: 0.9086 - val_loss: 0.1853 - val_accuracy: 0.9153 - 1s/epoch - 779us/step\n",
      "Epoch 9/100\n",
      "1817/1817 - 1s - loss: 0.1908 - accuracy: 0.9089 - val_loss: 0.1843 - val_accuracy: 0.9150 - 1s/epoch - 747us/step\n",
      "Epoch 10/100\n",
      "1817/1817 - 1s - loss: 0.1943 - accuracy: 0.9093 - val_loss: 0.1869 - val_accuracy: 0.9152 - 1s/epoch - 747us/step\n",
      "Epoch 11/100\n",
      "1817/1817 - 1s - loss: 0.1945 - accuracy: 0.9089 - val_loss: 0.1836 - val_accuracy: 0.9140 - 1s/epoch - 747us/step\n",
      "Epoch 12/100\n",
      "1817/1817 - 1s - loss: 0.1907 - accuracy: 0.9087 - val_loss: 0.1827 - val_accuracy: 0.9137 - 1s/epoch - 761us/step\n",
      "Epoch 13/100\n",
      "1817/1817 - 1s - loss: 0.1902 - accuracy: 0.9085 - val_loss: 0.1832 - val_accuracy: 0.9144 - 1s/epoch - 752us/step\n",
      "Epoch 14/100\n",
      "1817/1817 - 1s - loss: 0.1973 - accuracy: 0.9093 - val_loss: 0.1894 - val_accuracy: 0.9125 - 1s/epoch - 750us/step\n",
      "Epoch 15/100\n",
      "1817/1817 - 1s - loss: 0.1924 - accuracy: 0.9092 - val_loss: 0.1874 - val_accuracy: 0.9148 - 1s/epoch - 753us/step\n",
      "Epoch 16/100\n",
      "1817/1817 - 1s - loss: 0.1934 - accuracy: 0.9093 - val_loss: 0.1859 - val_accuracy: 0.9147 - 1s/epoch - 743us/step\n"
     ]
    }
   ],
   "source": [
    "hist= model.fit(X_train,y_train ,epochs=100,    validation_split=0.2, verbose=2 ,callbacks= [tbCallbacks,EScallback])"
   ]
  },
  {
   "cell_type": "code",
   "execution_count": 12,
   "id": "b3549c6a-3b08-4a22-a184-4619b3dc2ff4",
   "metadata": {},
   "outputs": [],
   "source": [
    "logits = model(X_test)\n",
    "yhat = tf.nn.sigmoid(logits)"
   ]
  },
  {
   "cell_type": "code",
   "execution_count": 13,
   "id": "7e283684-ae80-43f0-a60b-0d69cc0be6a1",
   "metadata": {},
   "outputs": [
    {
     "data": {
      "text/plain": [
       "(18168, 1)"
      ]
     },
     "execution_count": 13,
     "metadata": {},
     "output_type": "execute_result"
    }
   ],
   "source": [
    "y_test = np.reshape(y_test,(y_test.shape[0],1))\n",
    "y_test.shape"
   ]
  },
  {
   "cell_type": "code",
   "execution_count": 14,
   "id": "248714c6-8bdf-44b7-bbaf-035e0e0a6463",
   "metadata": {},
   "outputs": [
    {
     "data": {
      "text/plain": [
       "(18168, 1)"
      ]
     },
     "execution_count": 14,
     "metadata": {},
     "output_type": "execute_result"
    }
   ],
   "source": [
    "yhat=yhat.numpy()\n",
    "yhat.shape"
   ]
  },
  {
   "cell_type": "code",
   "execution_count": 15,
   "id": "fb9ed3c0-e90d-4f27-a333-64ed7913f34b",
   "metadata": {},
   "outputs": [
    {
     "name": "stdout",
     "output_type": "stream",
     "text": [
      "417 17751\n"
     ]
    }
   ],
   "source": [
    "o,z=0,0\n",
    "yhatN=[]\n",
    "for i in range(0,yhat.shape[0]):\n",
    "    if(yhat[i][0] < 0.5):\n",
    "        yhatN.append(0)\n",
    "        z=z+1\n",
    "    else:\n",
    "        yhatN.append(1)\n",
    "        o=o+1\n",
    "print(o,z)  "
   ]
  },
  {
   "cell_type": "code",
   "execution_count": 16,
   "id": "b0deaf11-f9a6-468f-b324-7c611011aa69",
   "metadata": {},
   "outputs": [
    {
     "data": {
      "text/plain": [
       "0.9149603698811096"
      ]
     },
     "execution_count": 16,
     "metadata": {},
     "output_type": "execute_result"
    }
   ],
   "source": [
    "from sklearn.metrics import f1_score\n",
    "f1_score(y_test, yhatN, average='micro')"
   ]
  },
  {
   "cell_type": "code",
   "execution_count": 17,
   "id": "78489bab-0410-4990-be74-19124a99d464",
   "metadata": {},
   "outputs": [
    {
     "name": "stdout",
     "output_type": "stream",
     "text": [
      "              precision    recall  f1-score   support\n",
      "\n",
      "       false       0.92      0.99      0.95     16418\n",
      "        true       0.75      0.18      0.29      1750\n",
      "\n",
      "    accuracy                           0.91     18168\n",
      "   macro avg       0.83      0.59      0.62     18168\n",
      "weighted avg       0.90      0.91      0.89     18168\n",
      "\n"
     ]
    }
   ],
   "source": [
    "from sklearn.metrics import classification_report\n",
    "target_name=['false','true']\n",
    "print(classification_report(y_test, yhatN, target_names=target_name))"
   ]
  },
  {
   "cell_type": "code",
   "execution_count": 20,
   "id": "37e6ca17-bdb8-42d7-8a2a-1ceac806b488",
   "metadata": {},
   "outputs": [
    {
     "name": "stdout",
     "output_type": "stream",
     "text": [
      "INFO:tensorflow:Assets written to: NN_weights\\assets\n"
     ]
    }
   ],
   "source": [
    "model.save('NN_weights')"
   ]
  },
  {
   "cell_type": "code",
   "execution_count": 22,
   "id": "f55101cf-3da4-4673-8130-0fcc22ee5001",
   "metadata": {},
   "outputs": [],
   "source": [
    "reconstructed_model = tf.keras.models.load_model(\"NN_weights\")"
   ]
  },
  {
   "cell_type": "code",
   "execution_count": 24,
   "id": "23242c6b-a868-4ba5-b7e8-a9f7b6657e14",
   "metadata": {},
   "outputs": [],
   "source": [
    "logits = reconstructed_model(X_test)\n",
    "yhat = tf.nn.sigmoid(logits)"
   ]
  },
  {
   "cell_type": "code",
   "execution_count": null,
   "id": "00bb47e7-ef6d-4661-b472-9331cb27f911",
   "metadata": {},
   "outputs": [],
   "source": []
  }
 ],
 "metadata": {
  "kernelspec": {
   "display_name": "Python 3 (ipykernel)",
   "language": "python",
   "name": "python3"
  },
  "language_info": {
   "codemirror_mode": {
    "name": "ipython",
    "version": 3
   },
   "file_extension": ".py",
   "mimetype": "text/x-python",
   "name": "python",
   "nbconvert_exporter": "python",
   "pygments_lexer": "ipython3",
   "version": "3.9.12"
  }
 },
 "nbformat": 4,
 "nbformat_minor": 5
}
