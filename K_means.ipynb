{
 "cells": [
  {
   "cell_type": "code",
   "execution_count": 1,
   "id": "fb6d5f9c-2153-4faf-b39e-2be566e5bb74",
   "metadata": {},
   "outputs": [],
   "source": [
    "import pandas as pd\n",
    "import numpy as np\n",
    "from matplotlib import pyplot as plt\n",
    "from sklearn.model_selection import train_test_split\n",
    "np.random.seed(2445030)"
   ]
  },
  {
   "cell_type": "code",
   "execution_count": 2,
   "id": "df9608c7-a366-422a-9996-d2324efbc1ba",
   "metadata": {},
   "outputs": [
    {
     "data": {
      "text/html": [
       "<div>\n",
       "<style scoped>\n",
       "    .dataframe tbody tr th:only-of-type {\n",
       "        vertical-align: middle;\n",
       "    }\n",
       "\n",
       "    .dataframe tbody tr th {\n",
       "        vertical-align: top;\n",
       "    }\n",
       "\n",
       "    .dataframe thead th {\n",
       "        text-align: right;\n",
       "    }\n",
       "</style>\n",
       "<table border=\"1\" class=\"dataframe\">\n",
       "  <thead>\n",
       "    <tr style=\"text-align: right;\">\n",
       "      <th></th>\n",
       "      <th>sepal_length</th>\n",
       "      <th>sepal_width</th>\n",
       "      <th>petal_length</th>\n",
       "      <th>petal_width</th>\n",
       "      <th>species</th>\n",
       "    </tr>\n",
       "  </thead>\n",
       "  <tbody>\n",
       "    <tr>\n",
       "      <th>0</th>\n",
       "      <td>5.1</td>\n",
       "      <td>3.5</td>\n",
       "      <td>1.4</td>\n",
       "      <td>0.2</td>\n",
       "      <td>setosa</td>\n",
       "    </tr>\n",
       "    <tr>\n",
       "      <th>1</th>\n",
       "      <td>4.9</td>\n",
       "      <td>3.0</td>\n",
       "      <td>1.4</td>\n",
       "      <td>0.2</td>\n",
       "      <td>setosa</td>\n",
       "    </tr>\n",
       "    <tr>\n",
       "      <th>2</th>\n",
       "      <td>4.7</td>\n",
       "      <td>3.2</td>\n",
       "      <td>1.3</td>\n",
       "      <td>0.2</td>\n",
       "      <td>setosa</td>\n",
       "    </tr>\n",
       "    <tr>\n",
       "      <th>3</th>\n",
       "      <td>4.6</td>\n",
       "      <td>3.1</td>\n",
       "      <td>1.5</td>\n",
       "      <td>0.2</td>\n",
       "      <td>setosa</td>\n",
       "    </tr>\n",
       "    <tr>\n",
       "      <th>4</th>\n",
       "      <td>5.0</td>\n",
       "      <td>3.6</td>\n",
       "      <td>1.4</td>\n",
       "      <td>0.2</td>\n",
       "      <td>setosa</td>\n",
       "    </tr>\n",
       "  </tbody>\n",
       "</table>\n",
       "</div>"
      ],
      "text/plain": [
       "   sepal_length  sepal_width  petal_length  petal_width species\n",
       "0           5.1          3.5           1.4          0.2  setosa\n",
       "1           4.9          3.0           1.4          0.2  setosa\n",
       "2           4.7          3.2           1.3          0.2  setosa\n",
       "3           4.6          3.1           1.5          0.2  setosa\n",
       "4           5.0          3.6           1.4          0.2  setosa"
      ]
     },
     "execution_count": 2,
     "metadata": {},
     "output_type": "execute_result"
    }
   ],
   "source": [
    "df = pd.read_csv(\"iris.csv\",index_col=False)\n",
    "df.head()"
   ]
  },
  {
   "cell_type": "code",
   "execution_count": 3,
   "id": "989b6472-583d-4281-af64-77a5e2ed3763",
   "metadata": {},
   "outputs": [
    {
     "data": {
      "text/plain": [
       "array(['setosa', 'versicolor', 'virginica'], dtype=object)"
      ]
     },
     "execution_count": 3,
     "metadata": {},
     "output_type": "execute_result"
    }
   ],
   "source": [
    "df['species'].unique()"
   ]
  },
  {
   "cell_type": "code",
   "execution_count": 4,
   "id": "a700149e-b301-4058-bda8-e4468a1431e8",
   "metadata": {},
   "outputs": [],
   "source": [
    "df['species'] = df['species'].replace(['setosa', 'versicolor', 'virginica'],[0,1,2])"
   ]
  },
  {
   "cell_type": "code",
   "execution_count": 5,
   "id": "b43033b1-29da-44a2-9bd1-e4be74435bd7",
   "metadata": {},
   "outputs": [
    {
     "data": {
      "text/html": [
       "<div>\n",
       "<style scoped>\n",
       "    .dataframe tbody tr th:only-of-type {\n",
       "        vertical-align: middle;\n",
       "    }\n",
       "\n",
       "    .dataframe tbody tr th {\n",
       "        vertical-align: top;\n",
       "    }\n",
       "\n",
       "    .dataframe thead th {\n",
       "        text-align: right;\n",
       "    }\n",
       "</style>\n",
       "<table border=\"1\" class=\"dataframe\">\n",
       "  <thead>\n",
       "    <tr style=\"text-align: right;\">\n",
       "      <th></th>\n",
       "      <th>sepal_length</th>\n",
       "      <th>sepal_width</th>\n",
       "      <th>petal_length</th>\n",
       "      <th>petal_width</th>\n",
       "      <th>species</th>\n",
       "    </tr>\n",
       "  </thead>\n",
       "  <tbody>\n",
       "    <tr>\n",
       "      <th>0</th>\n",
       "      <td>5.1</td>\n",
       "      <td>3.5</td>\n",
       "      <td>1.4</td>\n",
       "      <td>0.2</td>\n",
       "      <td>0</td>\n",
       "    </tr>\n",
       "    <tr>\n",
       "      <th>1</th>\n",
       "      <td>4.9</td>\n",
       "      <td>3.0</td>\n",
       "      <td>1.4</td>\n",
       "      <td>0.2</td>\n",
       "      <td>0</td>\n",
       "    </tr>\n",
       "    <tr>\n",
       "      <th>2</th>\n",
       "      <td>4.7</td>\n",
       "      <td>3.2</td>\n",
       "      <td>1.3</td>\n",
       "      <td>0.2</td>\n",
       "      <td>0</td>\n",
       "    </tr>\n",
       "    <tr>\n",
       "      <th>3</th>\n",
       "      <td>4.6</td>\n",
       "      <td>3.1</td>\n",
       "      <td>1.5</td>\n",
       "      <td>0.2</td>\n",
       "      <td>0</td>\n",
       "    </tr>\n",
       "    <tr>\n",
       "      <th>4</th>\n",
       "      <td>5.0</td>\n",
       "      <td>3.6</td>\n",
       "      <td>1.4</td>\n",
       "      <td>0.2</td>\n",
       "      <td>0</td>\n",
       "    </tr>\n",
       "  </tbody>\n",
       "</table>\n",
       "</div>"
      ],
      "text/plain": [
       "   sepal_length  sepal_width  petal_length  petal_width  species\n",
       "0           5.1          3.5           1.4          0.2        0\n",
       "1           4.9          3.0           1.4          0.2        0\n",
       "2           4.7          3.2           1.3          0.2        0\n",
       "3           4.6          3.1           1.5          0.2        0\n",
       "4           5.0          3.6           1.4          0.2        0"
      ]
     },
     "execution_count": 5,
     "metadata": {},
     "output_type": "execute_result"
    }
   ],
   "source": [
    "df.head()"
   ]
  },
  {
   "cell_type": "code",
   "execution_count": 6,
   "id": "f3619be1-48d2-4235-a5db-86a67abbc36e",
   "metadata": {},
   "outputs": [
    {
     "data": {
      "image/png": "[encoded data removed]",
      "text/plain": [
       "<Figure size 864x720 with 1 Axes>"
      ]
     },
     "metadata": {
      "needs_background": "light"
     },
     "output_type": "display_data"
    }
   ],
   "source": [
    "x = df.drop(['species'],axis=1)\n",
    "y = df['species']\n",
    "fig = plt.figure() \n",
    "fig.set_size_inches(12,10)\n",
    "plt.scatter(x['sepal_length'],x['sepal_width'],x['petal_length'],x['petal_width'],marker= \"X\",sizes = [10])\n",
    "plt.show()"
   ]
  },
  {
   "cell_type": "markdown",
   "id": "fa75a1be-5aa4-4650-bbe6-e8f746141e96",
   "metadata": {},
   "source": [
    "## Applying K_means from sklearn"
   ]
  },
  {
   "cell_type": "code",
   "execution_count": 7,
   "id": "adad2710-611b-4dc0-a8bf-6f08e9cb69f0",
   "metadata": {},
   "outputs": [],
   "source": [
    "X_train, X_test, y_train, y_test = train_test_split(x, y, random_state=42, train_size = 0.9)"
   ]
  },
  {
   "cell_type": "markdown",
   "id": "bb9f3e4e-6d10-4fc4-962f-fa09d3623a3d",
   "metadata": {},
   "source": [
    "## Initialing the centroid with best X_train example to fit the centroid"
   ]
  },
  {
   "cell_type": "code",
   "execution_count": 46,
   "id": "a2a58900-7ceb-4a20-8ef3-ea78f79f4b5d",
   "metadata": {},
   "outputs": [
    {
     "data": {
      "text/plain": [
       "(135, 4)"
      ]
     },
     "execution_count": 46,
     "metadata": {},
     "output_type": "execute_result"
    }
   ],
   "source": [
    "x_t = np.asarray(X_train)\n",
    "x_test = np.asarray(X_test)\n",
    "x_t.shape"
   ]
  },
  {
   "cell_type": "code",
   "execution_count": 44,
   "id": "27f1c437-4954-41cc-aa4c-12fb784bbe8f",
   "metadata": {},
   "outputs": [
    {
     "name": "stdout",
     "output_type": "stream",
     "text": [
      "[[4.9 3.  1.4 0.2]\n",
      " [6.3 2.3 4.4 1.3]\n",
      " [4.9 3.1 1.5 0.1]] 167.68999999999994\n",
      "[[6.4 3.2 5.3 2.3]\n",
      " [5.  3.5 1.6 0.6]\n",
      " [6.  2.2 4.  1. ]] 156.32\n",
      "[[6.  2.7 5.1 1.6]\n",
      " [5.4 3.4 1.7 0.2]\n",
      " [6.7 3.1 5.6 2.4]] 142.39000000000001\n",
      "[[5.1 3.7 1.5 0.4]\n",
      " [6.  3.  4.8 1.8]\n",
      " [6.1 2.6 5.6 1.4]] 135.95999999999998\n",
      "[[6.5 2.8 4.6 1.5]\n",
      " [5.  3.3 1.4 0.2]\n",
      " [7.7 3.  6.1 2.3]] 131.65\n",
      "[[6.7 3.  5.  1.7]\n",
      " [5.1 3.5 1.4 0.3]\n",
      " [5.  3.3 1.4 0.2]] 119.91\n"
     ]
    }
   ],
   "source": [
    "no_of_clusters=3\n",
    "J=200.0\n",
    "for i in range(1000):\n",
    "    k= np.array([])\n",
    "    a= np.random.randint(low= x_t.shape[0],size=no_of_clusters)\n",
    "    for j in a: \n",
    "        b = np.reshape(x_t[j,:],(1,x_t[j,:].shape[0]))\n",
    "        k = np.append(k,b)\n",
    "    k = np.reshape(k , (no_of_clusters,x_t[j,:].shape[0]))\n",
    "    c=np.sum((np.minimum(np.square(x_t-k[0][:]) ,np.square(x_t-k[1][:]),np.square(x_t-k[2][:]))))\n",
    "    if( c < J):\n",
    "        J = c\n",
    "        k_final = k\n",
    "        print(k_final,J)\n",
    "   "
   ]
  },
  {
   "cell_type": "markdown",
   "id": "d835f231-b488-4c64-af6b-475266a4a695",
   "metadata": {},
   "source": [
    "##  Creating  the training loop after K_means centroids "
   ]
  },
  {
   "cell_type": "code",
   "execution_count": 45,
   "id": "3e56a5b8-f9a0-49c5-9907-9714b31c5e75",
   "metadata": {},
   "outputs": [],
   "source": [
    "epoch =500\n",
    "for i in range(epoch):\n",
    "#     assiginig points to cluster centroids\n",
    "    d=[]\n",
    "    for j in range(x_t.shape[0]):\n",
    "        a=np.square(np.sum(x_t[j][:]-k[0][:]))\n",
    "        b=np.square(np.sum(x_t[j][:]-k[1][:]))\n",
    "        c=np.square(np.sum(x_t[j][:]-k[2][:]))\n",
    "        d.append(np.argmin([a,b,c]))\n",
    "    \n",
    "    d = np.asarray(d)\n",
    "    d=  np.reshape(d,(len(d),1))\n",
    "    \n",
    "    x_t = np.append(x_t,d,axis=1)\n",
    "                             \n",
    "#     move the cluster centroid\n",
    "    k2= np.array([])\n",
    "    for n in range(no_of_clusters):\n",
    "        a1 = x_t[np.where(x_t[:,-1]==n)]\n",
    "        mean=np.sum(a1[:,:-1],axis=0)/a1.shape[0]\n",
    "        mean = np.reshape(mean,(1,mean.shape[0]))\n",
    "        # print(mean.shape)\n",
    "        k2 = np.append(k2,mean)\n",
    "        # print(k2.shape)\n",
    "    x_t = np.delete(x_t,-1,1)\n",
    "    k2 = np.reshape(k2 , (no_of_clusters,x_t[j,:].shape[0]))\n",
    "    k=k2\n",
    "    # print(k)\n",
    "    \n",
    "        "
   ]
  },
  {
   "cell_type": "markdown",
   "id": "b3e71ebf-c1bd-476a-989c-af838e034b5d",
   "metadata": {},
   "source": [
    "## Got the Centroid value in k"
   ]
  },
  {
   "cell_type": "code",
   "execution_count": 47,
   "id": "dc45f780-5213-46d8-a2d6-9dc74e6b319c",
   "metadata": {},
   "outputs": [],
   "source": [
    "e=[]\n",
    "for j in range(x_t.shape[0]):\n",
    "        a1=np.square(np.sum(x_t[j][:]-k[0][:]))\n",
    "        b1=np.square(np.sum(x_t[j][:]-k[1][:]))\n",
    "        c1=np.square(np.sum(x_t[j][:]-k[2][:]))\n",
    "        e.append(np.argmin([a1,b1,c1]))"
   ]
  },
  {
   "cell_type": "code",
   "execution_count": 48,
   "id": "e62a9703-9bc4-4182-a7a3-522e09563578",
   "metadata": {},
   "outputs": [
    {
     "data": {
      "text/plain": [
       "0.26666666666666666"
      ]
     },
     "execution_count": 48,
     "metadata": {},
     "output_type": "execute_result"
    }
   ],
   "source": [
    "from sklearn.metrics import accuracy_score\n",
    "accuracy_score(y_train,d)"
   ]
  },
  {
   "cell_type": "code",
   "execution_count": 56,
   "id": "78a594a6-e853-4618-b7b8-9053e00073c2",
   "metadata": {},
   "outputs": [
    {
     "data": {
      "image/png": "[encoded data removed]",
      "text/plain": [
       "<Figure size 432x288 with 2 Axes>"
      ]
     },
     "metadata": {
      "needs_background": "light"
     },
     "output_type": "display_data"
    },
    {
     "data": {
      "text/plain": [
       "<Figure size 3456x3456 with 0 Axes>"
      ]
     },
     "metadata": {},
     "output_type": "display_data"
    }
   ],
   "source": [
    "plt.subplot(1, 2, 1) # row 1, col 2 index 1\n",
    "# fig = plt.figure() \n",
    "# fig.set_size_inches(12,10)\n",
    "plt.scatter(k[0][:],k[1][:],k[2][:],marker= \"X\",sizes = [10])\n",
    "\n",
    "\n",
    "plt.subplot(1, 2, 2) # index 2\n",
    "# fig = plt.figure() \n",
    "# fig.set_size_inches(12,10)\n",
    "plt.scatter(x['sepal_length'],x['sepal_width'],x['petal_length'],x['petal_width'],marker= \"X\",sizes = [10])\n",
    "\n",
    "plt.tight_layout()\n",
    "plt.figure(figsize = (48, 48))\n",
    "plt.show()"
   ]
  },
  {
   "cell_type": "code",
   "execution_count": null,
   "id": "2d29e128-a0dd-44b0-b42f-9bf17303de57",
   "metadata": {},
   "outputs": [],
   "source": []
  }
 ],
 "metadata": {
  "kernelspec": {
   "display_name": "Python 3 (ipykernel)",
   "language": "python",
   "name": "python3"
  },
  "language_info": {
   "codemirror_mode": {
    "name": "ipython",
    "version": 3
   },
   "file_extension": ".py",
   "mimetype": "text/x-python",
   "name": "python",
   "nbconvert_exporter": "python",
   "pygments_lexer": "ipython3",
   "version": "3.9.12"
  }
 },
 "nbformat": 4,
 "nbformat_minor": 5
}
