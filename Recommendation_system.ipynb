{
 "cells": [
  {
   "cell_type": "code",
   "execution_count": 1,
   "id": "1b7b05a2-ad95-4b3d-8870-2b90bed484a0",
   "metadata": {},
   "outputs": [],
   "source": [
    "import tensorflow as tf\n",
    "from matplotlib import pyplot as plt\n",
    "import numpy as np\n",
    "from tensorflow.keras.optimizers import Adam"
   ]
  },
  {
   "cell_type": "code",
   "execution_count": 2,
   "id": "df368e06-cede-4ddb-9a7c-889da640909d",
   "metadata": {},
   "outputs": [
    {
     "data": {
      "text/plain": [
       "<tf.Tensor: shape=(5, 4), dtype=float32, numpy=\n",
       "array([[1.4539415 , 2.6689136 , 3.1639237 , 4.3464684 ],\n",
       "       [2.7829325 , 0.71489453, 0.54931164, 0.23130536],\n",
       "       [2.0940895 , 2.1607451 , 0.7701415 , 1.6868669 ],\n",
       "       [2.8299832 , 4.3040266 , 0.20386755, 2.3473625 ],\n",
       "       [1.8008673 , 1.6849232 , 1.9028157 , 0.49446523]], dtype=float32)>"
      ]
     },
     "execution_count": 2,
     "metadata": {},
     "output_type": "execute_result"
    }
   ],
   "source": [
    "x = tf.Variable(tf.random.uniform(shape=[5,2],minval=0, maxval=1, dtype=tf.float32, seed=10))\n",
    "x = tf.Variable(tf.concat([x, tf.ones([5, 1], tf.float32)], 1))\n",
    "w = tf.Variable(tf.random.uniform(shape=[3,4], maxval=5, dtype=tf.float32, seed=10))\n",
    "y = tf.random.uniform(shape=[5,4],minval=0, maxval=5, dtype=tf.float32, seed=10)\n",
    "y"
   ]
  },
  {
   "cell_type": "code",
   "execution_count": 3,
   "id": "aaf9e065-c7d7-48ed-bcf9-b6b1a6f69f9e",
   "metadata": {},
   "outputs": [
    {
     "data": {
      "text/plain": [
       "<tf.Tensor: shape=(5, 1), dtype=float32, numpy=\n",
       "array([[2.9083118],\n",
       "       [1.0696111],\n",
       "       [1.6779608],\n",
       "       [2.42131  ],\n",
       "       [1.4707679]], dtype=float32)>"
      ]
     },
     "execution_count": 3,
     "metadata": {},
     "output_type": "execute_result"
    }
   ],
   "source": [
    "y1 =tf.reduce_mean(y, 1)\n",
    "y1 =tf.reshape(y1,[y1.shape[0],1])\n",
    "y1"
   ]
  },
  {
   "cell_type": "code",
   "execution_count": 4,
   "id": "755537cd-371d-4554-8651-efe28cfaabf0",
   "metadata": {},
   "outputs": [],
   "source": [
    "opti= Adam(learning_rate=1e-1)\n",
    "alpha =0.01\n",
    "iter =200\n",
    "c=[]\n",
    "for i in range(iter):\n",
    "    with tf.GradientTape() as tape:\n",
    "        #mean normalised yhat\n",
    "        f = tf.matmul(x, w)+y1\n",
    "        \n",
    "        cost = tf.math.pow((f-y),2)\n",
    "        \n",
    "    c.append(tf.reduce_sum(cost))\n",
    "    grad = tape.gradient(cost,[x,w])\n",
    "    # print(grad[0])\n",
    "    opti.apply_gradients(zip(grad,[x,w])) # adma optimizer\n",
    "    \n",
    "    # SGD\n",
    "    # x.assign_add(-1*0.01 * grad[0])\n",
    "    # w.assign_add(-1*0.01 * grad[1])"
   ]
  },
  {
   "cell_type": "code",
   "execution_count": 5,
   "id": "bf1cd3fd-b8cd-4c1a-8a30-a48441062c31",
   "metadata": {},
   "outputs": [
    {
     "data": {
      "image/png": "[encoded data removed]",
      "text/plain": [
       "<Figure size 432x288 with 1 Axes>"
      ]
     },
     "metadata": {
      "needs_background": "light"
     },
     "output_type": "display_data"
    }
   ],
   "source": [
    "l=np.arange(1,len(c)+1)\n",
    "plt.plot(l, c, label = \"line 2\")\n",
    "  \n",
    "# naming the x axis\n",
    "plt.xlabel('iteration')\n",
    "# naming the y axis\n",
    "plt.ylabel('cost')\n",
    "# giving a title to my graph\n",
    "plt.title('Cost function Recommendor system!')\n",
    "  \n",
    "# show a legend on the plot\n",
    "plt.legend()\n",
    "  \n",
    "# function to show the plot\n",
    "plt.show()"
   ]
  },
  {
   "cell_type": "code",
   "execution_count": null,
   "id": "abc00842-977a-4f5d-8b08-53114a2bc6ff",
   "metadata": {},
   "outputs": [],
   "source": []
  }
 ],
 "metadata": {
  "kernelspec": {
   "display_name": "Python 3 (ipykernel)",
   "language": "python",
   "name": "python3"
  },
  "language_info": {
   "codemirror_mode": {
    "name": "ipython",
    "version": 3
   },
   "file_extension": ".py",
   "mimetype": "text/x-python",
   "name": "python",
   "nbconvert_exporter": "python",
   "pygments_lexer": "ipython3",
   "version": "3.9.12"
  }
 },
 "nbformat": 4,
 "nbformat_minor": 5
}
