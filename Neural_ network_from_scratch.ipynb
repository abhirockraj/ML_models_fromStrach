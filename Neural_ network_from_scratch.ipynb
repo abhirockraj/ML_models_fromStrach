{
 "cells": [
  {
   "cell_type": "code",
   "execution_count": 1,
   "metadata": {},
   "outputs": [
    {
     "data": {
      "text/plain": [
       "(3, 10)"
      ]
     },
     "execution_count": 1,
     "metadata": {},
     "output_type": "execute_result"
    }
   ],
   "source": [
    "import numpy as np \n",
    "\n",
    "np.random.seed(0)\n",
    "# ,[1, 2, 3, 2.5,1],[1, 2, 3, 2.5,1]\n",
    "\n",
    "# X = [[1, 2, 3, 2.5,1]]\n",
    "\n",
    "# X= np.reshape(X,(5,1))\n",
    "# y_a = np.array([1,3,4,2,6])\n",
    "# y_a= np.reshape(y_a,(1,5))\n",
    "# y_a\n",
    "c= np.ones(10,dtype=int)\n",
    "a = np.random.randint(1,10,10,dtype=int)\n",
    "b = np.random.randint(1,10,10,dtype=int)\n",
    "x= np.vstack((c,a,b))\n",
    "x.shape\n",
    "# "
   ]
  },
  {
   "cell_type": "code",
   "execution_count": 2,
   "metadata": {},
   "outputs": [
    {
     "data": {
      "text/plain": [
       "(1, 10)"
      ]
     },
     "execution_count": 2,
     "metadata": {},
     "output_type": "execute_result"
    }
   ],
   "source": [
    "th = np.array([5,2,3])\n",
    "th=np.reshape(th,(1,3))\n",
    "th.shape\n",
    "y = np.dot(th,np.square(x))\n",
    "y.shape"
   ]
  },
  {
   "cell_type": "code",
   "execution_count": 3,
   "metadata": {},
   "outputs": [],
   "source": [
    "## Building neural network from scratch\n",
    "\n",
    "## Forward pass\n",
    "class Layer_Dense:\n",
    "    ## initializing weights\n",
    "    def __init__(self, n_neurons, n_inputs):\n",
    "        self.weights = 0.10 * np.random.randn(n_neurons, n_inputs)\n",
    "#         self.biases = np.zeros((1, n_neurons))\n",
    "    \n",
    "    def forward(self, inputs):\n",
    "        self.output = np.matmul( self.weights , inputs) \n",
    "\n",
    " ## assiging weights after back prop       \n",
    "class BackProp: \n",
    "    ##layer wise back prop\n",
    "    \n",
    "    def backprop_l3(self,a2,a3 , w3):\n",
    "        a2 = np.reshape(a2,(a2.shape[0],1))\n",
    "        # print(a2.shape)\n",
    "        a3 = np.reshape(a3,(a3.shape[0],1))\n",
    "        w3 -=  (0.001/10)  * (1-np.sum(np.square(a3))) * np.matmul(np.ones((1,4)),a2)\n",
    "        return w3\n",
    "    \n",
    "    def backprop_l2(self,w3, w2,a2,a1,a3):\n",
    "        a2 = np.reshape(a2,(a2.shape[0],1))\n",
    "        a1 = np.reshape(a1,(a1.shape[0],1))\n",
    "        w2 -= (0.001/10)*(1-np.sum(np.square(a3)))*np.matmul(w3,np.ones((4,1)))*np.matmul(a2,a1.T)\n",
    "        return w2\n",
    "    \n",
    "    def backprop_l1(self, w1,w2,w3,x,a1,a2,a3):\n",
    "        a2 = np.reshape(a2,(a2.shape[0],1))\n",
    "        # a3 = np.reshape(a3,(a3.shape[0],1))\n",
    "        a1 = np.reshape(a1,(a1.shape[0],1))\n",
    "        \n",
    "        w1 -= ((0.001/10)*(1-np.sum(np.square(a3)))* (np.sum(w2)))*np.matmul(np.matmul(a1,a2.T),np.matmul(x,w3).T) \n",
    "        return w1\n",
    "        \n",
    "## Defining activation layer relu\n",
    "class ActivationRelu:\n",
    "    def __init__(self, inputs):\n",
    "        self.output= np.maximum(0,inputs)\n",
    "\n",
    "## Defining activation layer tanh\n",
    "class ActivationTanh:\n",
    "    def __init__(self, inputs):\n",
    "        self.output= np.tanh(inputs)\n",
    "\n",
    "## Defining soft max\n",
    "class Activation_softmax:\n",
    "    def __init__(self,inputs):\n",
    "        expV = np.exp(inputs - np.max(inputs,keepdims=True, axis=1) )\n",
    "        probabity = expV/np.sum(expV,keepdims=True, axis=1)\n",
    "        self.output= probabity\n",
    "\n",
    "## Parent class of loss\n",
    "class Loss:\n",
    "    def calculate (self, ot,y):\n",
    "        samples =self.forward(ot,y)\n",
    "        return np.mean(samples)\n",
    "\n",
    "## Mean squared error\n",
    "class MSE(Loss) :\n",
    "    def forward(self, yhat,y):\n",
    "        return (np.square(yhat-y))\n",
    "\n",
    "## Cross entropy loss \n",
    "class CrossEntropy(Loss):\n",
    "    def forward(self, y_p, y_a):\n",
    "        sample = len(y_p)\n",
    "        y_p = np.clip(y_p,1e-7,1-1e-7)\n",
    "        if(len(y_p.shape) == 1):\n",
    "            correct_config =  y_p[range(sample),y_a]\n",
    "        elif(len(y_p.shape) == 2):\n",
    "            correct_config =  np.sum(y_p*y_a, axis=1)\n",
    "        return (-np.log(correct_config))    \n",
    "        \n",
    "size = x.shape[0] # 3\n",
    "## Desiging NN\n",
    "layer1 = Layer_Dense(3,3)\n",
    "layer2 = Layer_Dense(4,3)\n",
    "layer3 = Layer_Dense(1,4)\n",
    "##Backpropagation\n",
    "back_prop = BackProp()\n",
    "# # layer4 = Layer_Dense(1,2)\n"
   ]
  },
  {
   "cell_type": "code",
   "execution_count": 4,
   "metadata": {},
   "outputs": [],
   "source": [
    "## training \n",
    "cost=[]\n",
    "## number of epoch\n",
    "for i in range(100):\n",
    "    yhat=[]\n",
    "    for j in range(x.shape[1]):\n",
    "        ## taking indiviual training set from the batch\n",
    "        xn = x[:,j]\n",
    "        xn= np.reshape(xn,(xn.shape[0],1))\n",
    "        \n",
    "        layer1.forward(xn)\n",
    "        o1= layer1.output\n",
    "        ao1=ActivationTanh(o1)\n",
    "        layer2.forward(ao1.output)\n",
    "        o2= layer2.output\n",
    "        ao2 = ActivationTanh(o2)\n",
    "        # print(ao2.output.shape,\"l2\")\n",
    "        # print(ao2.output.shape)\n",
    "        layer3.forward(ao2.output)\n",
    "        o3= layer3.output\n",
    "        # ao3 = ActivationRelu(o3)\n",
    "        # layer4.forward(ao3.output)\n",
    "        # o4= layer4.output\n",
    "        # ao4 = ActivationRelu(o4)\n",
    "        # prob = Activation_softmax(o3)\n",
    "        ao3 = ActivationTanh(o3)\n",
    "        # print(ao3.output.shape,\"l3\")\n",
    "        yhat.append(ao3.output)\n",
    "        # loss = CrossEntropy()\n",
    "        \n",
    "        ##Back propagation\n",
    "\n",
    "        # print(layer3.weights , \"old\")\n",
    "        layer3.weights = back_prop.backprop_l3(ao2.output,ao3.output,layer3.weights)\n",
    "        # print(layer3.weights)\n",
    "        # print(layer2.weights)\n",
    "        layer2.weights = back_prop.backprop_l2(layer3.weights,layer2.weights,ao2.output,ao1.output,ao3.output)\n",
    "        # print(layer2.weights)\n",
    "        # print(layer1.weights)\n",
    "        layer1.weights = back_prop.backprop_l1(layer1.weights,layer2.weights,layer3.weights,xn,ao1.output,ao2.output,ao3.output)\n",
    "        # print(layer1.weights)\n",
    "        \n",
    "    loss= MSE()\n",
    "    yhat = np.reshape(yhat,(1,y.shape[1]))\n",
    "    l=loss.calculate(yhat,y)\n",
    "    cost.append(l)\n",
    "    # print(ao4.output.shape)\n",
    "    # print(prob.output,\"softmax\")\n",
    "# print(l)"
   ]
  },
  {
   "cell_type": "code",
   "execution_count": 5,
   "metadata": {},
   "outputs": [
    {
     "data": {
      "image/png": "[encoded data removed]",
      "text/plain": [
       "<Figure size 432x288 with 1 Axes>"
      ]
     },
     "metadata": {
      "needs_background": "light"
     },
     "output_type": "display_data"
    }
   ],
   "source": [
    "from matplotlib import pyplot as plt \n",
    "l=np.arange(1,len(cost)+1)\n",
    "plt.plot(l, cost, label = \"line 2\")\n",
    "  \n",
    "# naming the x axis\n",
    "plt.xlabel('iteration')\n",
    "# naming the y axis\n",
    "plt.ylabel('cost')\n",
    "# giving a title to my graph\n",
    "plt.title('Cost function LR!')\n",
    "  \n",
    "# show a legend on the plot\n",
    "plt.legend()\n",
    "  \n",
    "# function to show the plot\n",
    "plt.show()"
   ]
  },
  {
   "cell_type": "code",
   "execution_count": 6,
   "metadata": {},
   "outputs": [],
   "source": [
    "# Finding derivative ofnn for back propagation using tanh\n",
    "import scipy as sp\n",
    "import sympy as smp\n",
    "from sympy import * \n",
    "from scipy.misc import derivative"
   ]
  },
  {
   "cell_type": "code",
   "execution_count": 7,
   "metadata": {},
   "outputs": [],
   "source": [
    "w1,w2,w3,x,y = smp.symbols('w1 w2 w3 x y',real=True)\n",
    "l1=smp.tanh(x * w1)\n",
    "l2=smp.tanh(l1 * w2)\n",
    "f= smp.tanh(l2*w3)-y"
   ]
  },
  {
   "cell_type": "code",
   "execution_count": 8,
   "metadata": {},
   "outputs": [
    {
     "data": {
      "text/latex": [
       "$\\displaystyle \\left(1 - \\tanh^{2}{\\left(w_{3} \\tanh{\\left(w_{2} \\tanh{\\left(w_{1} x \\right)} \\right)} \\right)}\\right) \\tanh{\\left(w_{2} \\tanh{\\left(w_{1} x \\right)} \\right)}$"
      ],
      "text/plain": [
       "(1 - tanh(w3*tanh(w2*tanh(w1*x)))**2)*tanh(w2*tanh(w1*x))"
      ]
     },
     "execution_count": 8,
     "metadata": {},
     "output_type": "execute_result"
    }
   ],
   "source": [
    "dldw3= smp.diff(f,w3)\n",
    "dldw3"
   ]
  },
  {
   "cell_type": "code",
   "execution_count": 9,
   "metadata": {},
   "outputs": [
    {
     "data": {
      "text/latex": [
       "$\\displaystyle w_{3} \\cdot \\left(1 - \\tanh^{2}{\\left(w_{2} \\tanh{\\left(w_{1} x \\right)} \\right)}\\right) \\left(1 - \\tanh^{2}{\\left(w_{3} \\tanh{\\left(w_{2} \\tanh{\\left(w_{1} x \\right)} \\right)} \\right)}\\right) \\tanh{\\left(w_{1} x \\right)}$"
      ],
      "text/plain": [
       "w3*(1 - tanh(w2*tanh(w1*x))**2)*(1 - tanh(w3*tanh(w2*tanh(w1*x)))**2)*tanh(w1*x)"
      ]
     },
     "execution_count": 9,
     "metadata": {},
     "output_type": "execute_result"
    }
   ],
   "source": [
    "dldw2  = smp.diff(f,w2)\n",
    "dldw2"
   ]
  },
  {
   "cell_type": "code",
   "execution_count": 10,
   "metadata": {},
   "outputs": [
    {
     "data": {
      "text/latex": [
       "$\\displaystyle w_{2} w_{3} x \\left(1 - \\tanh^{2}{\\left(w_{1} x \\right)}\\right) \\left(1 - \\tanh^{2}{\\left(w_{2} \\tanh{\\left(w_{1} x \\right)} \\right)}\\right) \\left(1 - \\tanh^{2}{\\left(w_{3} \\tanh{\\left(w_{2} \\tanh{\\left(w_{1} x \\right)} \\right)} \\right)}\\right)$"
      ],
      "text/plain": [
       "w2*w3*x*(1 - tanh(w1*x)**2)*(1 - tanh(w2*tanh(w1*x))**2)*(1 - tanh(w3*tanh(w2*tanh(w1*x)))**2)"
      ]
     },
     "execution_count": 10,
     "metadata": {},
     "output_type": "execute_result"
    }
   ],
   "source": [
    "dldw1 = smp.diff(f,w1)\n",
    "dldw1"
   ]
  },
  {
   "cell_type": "code",
   "execution_count": null,
   "metadata": {},
   "outputs": [],
   "source": [
    "w1,w2,w3,x,y = smp.symbols('w1 w2 w3 x y',real=True)\n",
    "l1=smp.Piecewise(((x * w1), (x*w1)>=0),(0,(x*w1)<0))\n",
    "l2=smp.Piecewise(((l1 * w2), (l1*w2)>=0),(0,(l1*w2)<0))\n",
    "f= smp.Piecewise(((l2*w3),(l2*w3)>=0),(0,(l2*w3)<0))-y"
   ]
  },
  {
   "cell_type": "code",
   "execution_count": null,
   "metadata": {},
   "outputs": [],
   "source": [
    "a= 0.001 * ao2.output\n",
    "a = np.matmul(ao2.output.T , ao2.output) \n",
    "a.shape"
   ]
  },
  {
   "cell_type": "code",
   "execution_count": null,
   "metadata": {},
   "outputs": [],
   "source": [
    "\n",
    "# layer1.forward(X)\n",
    "# o1= layer1.output\n",
    "# ao1=ActivationTanh(o1)\n",
    "# # print(ao1.output,\"l1\")\n",
    "# # print(layer1.output)\n",
    "# layer2.forward(ao1.output)\n",
    "# o2= layer2.output\n",
    "# ao2 = ActivationTanh(o2)\n",
    "# # print(ao2.output,\"l2\")\n",
    "# layer3.forward(ao2.output)\n",
    "# o3= layer3.output\n",
    "# # ao3 = ActivationRelu(o3)\n",
    "# # print(ao3.output,\"l3\")\n",
    "# # layer4.forward(ao3.output)\n",
    "# # o4= layer4.output\n",
    "# # ao4 = ActivationRelu(o4)\n",
    "# prob = Activation_softmax(o3)\n",
    "# loss = CrossEntropy()\n",
    "# l=loss.calculate(prob.output,y_a)\n",
    "\n",
    "# ##Back propagation\n",
    "\n",
    "# print(layer3.weights)\n",
    "# layer3.weights = layer3.backprop_l3(ao2,layer3.weights)\n",
    "# print(layer3.weights)\n",
    "# print(layer2.weights)\n",
    "# layer2.weights = layer2.backprop_l2(layer3.weights,layer2.weights,ao2,ao1)\n",
    "# print(layer2.weights)\n",
    "# print(layer1.weights)\n",
    "# layer1.weights = layer1.backprop_l1(layer1.weights,layer2.weights,layer3.weights,X,ao1,ao2)\n",
    "# print(layer1.weights)\n",
    "\n",
    "\n",
    "# # print(ao4.output.shape)\n",
    "# # print(prob.output,\"softmax\")\n",
    "# print(l)"
   ]
  }
 ],
 "metadata": {
  "kernelspec": {
   "display_name": "Python 3 (ipykernel)",
   "language": "python",
   "name": "python3"
  },
  "language_info": {
   "codemirror_mode": {
    "name": "ipython",
    "version": 3
   },
   "file_extension": ".py",
   "mimetype": "text/x-python",
   "name": "python",
   "nbconvert_exporter": "python",
   "pygments_lexer": "ipython3",
   "version": "3.9.12"
  }
 },
 "nbformat": 4,
 "nbformat_minor": 4
}
