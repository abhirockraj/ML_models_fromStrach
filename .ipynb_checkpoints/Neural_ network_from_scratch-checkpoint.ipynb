{
 "cells": [
  {
   "cell_type": "code",
   "execution_count": 210,
   "metadata": {},
   "outputs": [
    {
     "data": {
      "text/plain": [
       "(3, 10)"
      ]
     },
     "execution_count": 210,
     "metadata": {},
     "output_type": "execute_result"
    }
   ],
   "source": [
    "import numpy as np \n",
    "\n",
    "np.random.seed(0)\n",
    "# ,[1, 2, 3, 2.5,1],[1, 2, 3, 2.5,1]\n",
    "\n",
    "# X = [[1, 2, 3, 2.5,1]]\n",
    "\n",
    "# X= np.reshape(X,(5,1))\n",
    "# y_a = np.array([1,3,4,2,6])\n",
    "# y_a= np.reshape(y_a,(1,5))\n",
    "# y_a\n",
    "c= np.ones(10,dtype=int)\n",
    "a = np.random.randint(1,10,10,dtype=int)\n",
    "b = np.random.randint(1,10,10,dtype=int)\n",
    "x= np.vstack((c,a,b))\n",
    "x.shape\n",
    "# "
   ]
  },
  {
   "cell_type": "code",
   "execution_count": 211,
   "metadata": {},
   "outputs": [
    {
     "data": {
      "text/plain": [
       "(1, 10)"
      ]
     },
     "execution_count": 211,
     "metadata": {},
     "output_type": "execute_result"
    }
   ],
   "source": [
    "th = np.array([5,2,3])\n",
    "th=np.reshape(th,(1,3))\n",
    "th.shape\n",
    "y = np.dot(th,np.square(x))\n",
    "y.shape"
   ]
  },
  {
   "cell_type": "code",
   "execution_count": 214,
   "metadata": {},
   "outputs": [],
   "source": [
    "class Layer_Dense:\n",
    "    \n",
    "    def __init__(self, n_neurons, n_inputs):\n",
    "        self.weights = 0.10 * np.random.randn(n_neurons, n_inputs)\n",
    "#         self.biases = np.zeros((1, n_neurons))\n",
    "    \n",
    "    def forward(self, inputs):\n",
    "        self.output = np.matmul( self.weights , inputs) \n",
    "        \n",
    "class BackProp:    \n",
    "    def backprop_l3(self,a2,a3 , w3):\n",
    "        w3 -=  (0.001/10)  * (1-np.sum(np.square(a3))) * np.matmul(np.ones((1,4)),a2)\n",
    "        return w3\n",
    "    \n",
    "    def backprop_l2(self,w3, w2,a2,a1,a3):\n",
    "        w2 -= (0.001/10)*(1-np.sum(np.square(a3)))*np.matmul(w3,np.ones((4,1)))*np.matmul(a2,a1.T)\n",
    "        return w2\n",
    "    \n",
    "    def backprop_l1(self, w1,w2,w3,x,a1,a2,a3):\n",
    "        w1 -= ((0.001/10)*(1-np.sum(np.square(a3)))* (np.sum(w2)))*np.matmul(np.matmul(a1,a2.T),np.matmul(x,w3).T) \n",
    "        return w1\n",
    "        \n",
    "\n",
    "class ActivationRelu:\n",
    "    def __init__(self, inputs):\n",
    "        self.output= np.maximum(0,inputs)\n",
    "\n",
    "class ActivationTanh:\n",
    "    def __init__(self, inputs):\n",
    "        self.output= np.tanh(inputs)\n",
    "        \n",
    "class Activation_softmax:\n",
    "    def __init__(self,inputs):\n",
    "        expV = np.exp(inputs - np.max(inputs,keepdims=True, axis=1) )\n",
    "        probabity = expV/np.sum(expV,keepdims=True, axis=1)\n",
    "        self.output= probabity\n",
    "class Loss:\n",
    "    def calculate (self, ot,y):\n",
    "        samples =self.forward(ot,y)\n",
    "        return np.mean(samples)\n",
    "\n",
    "class MSE(Loss) :\n",
    "    def forward(self, yhat,y):\n",
    "        return (np.square(yhat-y))\n",
    "    \n",
    "class CrossEntropy(Loss):\n",
    "    def forward(self, y_p, y_a):\n",
    "        sample = len(y_p)\n",
    "        y_p = np.clip(y_p,1e-7,1-1e-7)\n",
    "        if(len(y_p.shape) == 1):\n",
    "            correct_config =  y_p[range(sample),y_a]\n",
    "        elif(len(y_p.shape) == 2):\n",
    "            correct_config =  np.sum(y_p*y_a, axis=1)\n",
    "        return (-np.log(correct_config))    \n",
    "        \n",
    "size = x.shape[0] # 3\n",
    "layer1 = Layer_Dense(3,3)\n",
    "layer2 = Layer_Dense(4,3)\n",
    "layer3 = Layer_Dense(1,4)\n",
    "back_prop = BackProp()\n",
    "# # layer4 = Layer_Dense(1,2)\n"
   ]
  },
  {
   "cell_type": "code",
   "execution_count": 215,
   "metadata": {},
   "outputs": [
    {
     "name": "stdout",
     "output_type": "stream",
     "text": [
      "(3,) l1\n",
      "(4,) l2\n",
      "(1,) l3\n"
     ]
    },
    {
     "ename": "ValueError",
     "evalue": "matmul: Input operand 1 has a mismatch in its core dimension 0, with gufunc signature (n?,k),(k,m?)->(n?,m?) (size 3 is different from 4)",
     "output_type": "error",
     "traceback": [
      "\u001b[1;31m---------------------------------------------------------------------------\u001b[0m",
      "\u001b[1;31mValueError\u001b[0m                                Traceback (most recent call last)",
      "Input \u001b[1;32mIn [215]\u001b[0m, in \u001b[0;36m<cell line: 2>\u001b[1;34m()\u001b[0m\n\u001b[0;32m     32\u001b[0m layer3\u001b[38;5;241m.\u001b[39mweights \u001b[38;5;241m=\u001b[39m back_prop\u001b[38;5;241m.\u001b[39mbackprop_l3(ao2\u001b[38;5;241m.\u001b[39moutput,ao3\u001b[38;5;241m.\u001b[39moutput,layer3\u001b[38;5;241m.\u001b[39mweights)\n\u001b[0;32m     33\u001b[0m \u001b[38;5;66;03m# print(layer3.weights)\u001b[39;00m\n\u001b[0;32m     34\u001b[0m \u001b[38;5;66;03m# print(layer2.weights)\u001b[39;00m\n\u001b[1;32m---> 35\u001b[0m layer2\u001b[38;5;241m.\u001b[39mweights \u001b[38;5;241m=\u001b[39m \u001b[43mback_prop\u001b[49m\u001b[38;5;241;43m.\u001b[39;49m\u001b[43mbackprop_l2\u001b[49m\u001b[43m(\u001b[49m\u001b[43mlayer3\u001b[49m\u001b[38;5;241;43m.\u001b[39;49m\u001b[43mweights\u001b[49m\u001b[43m,\u001b[49m\u001b[43mlayer2\u001b[49m\u001b[38;5;241;43m.\u001b[39;49m\u001b[43mweights\u001b[49m\u001b[43m,\u001b[49m\u001b[43mao2\u001b[49m\u001b[38;5;241;43m.\u001b[39;49m\u001b[43moutput\u001b[49m\u001b[43m,\u001b[49m\u001b[43mao1\u001b[49m\u001b[38;5;241;43m.\u001b[39;49m\u001b[43moutput\u001b[49m\u001b[43m,\u001b[49m\u001b[43mao3\u001b[49m\u001b[38;5;241;43m.\u001b[39;49m\u001b[43moutput\u001b[49m\u001b[43m)\u001b[49m\n\u001b[0;32m     36\u001b[0m \u001b[38;5;66;03m# print(layer2.weights)\u001b[39;00m\n\u001b[0;32m     37\u001b[0m \u001b[38;5;66;03m# print(layer1.weights)\u001b[39;00m\n\u001b[0;32m     38\u001b[0m layer1\u001b[38;5;241m.\u001b[39mweights \u001b[38;5;241m=\u001b[39m back_prop\u001b[38;5;241m.\u001b[39mbackprop_l1(layer1\u001b[38;5;241m.\u001b[39mweights,layer2\u001b[38;5;241m.\u001b[39mweights,layer3\u001b[38;5;241m.\u001b[39mweights,xn,ao1\u001b[38;5;241m.\u001b[39moutput,ao2\u001b[38;5;241m.\u001b[39moutput,ao3\u001b[38;5;241m.\u001b[39moutput)\n",
      "Input \u001b[1;32mIn [214]\u001b[0m, in \u001b[0;36mBackProp.backprop_l2\u001b[1;34m(self, w3, w2, a2, a1, a3)\u001b[0m\n\u001b[0;32m     15\u001b[0m \u001b[38;5;28;01mdef\u001b[39;00m \u001b[38;5;21mbackprop_l2\u001b[39m(\u001b[38;5;28mself\u001b[39m,w3, w2,a2,a1,a3):\n\u001b[1;32m---> 16\u001b[0m     w2 \u001b[38;5;241m-\u001b[39m\u001b[38;5;241m=\u001b[39m (\u001b[38;5;241m0.001\u001b[39m\u001b[38;5;241m/\u001b[39m\u001b[38;5;241m10\u001b[39m)\u001b[38;5;241m*\u001b[39m(\u001b[38;5;241m1\u001b[39m\u001b[38;5;241m-\u001b[39mnp\u001b[38;5;241m.\u001b[39msum(np\u001b[38;5;241m.\u001b[39msquare(a3)))\u001b[38;5;241m*\u001b[39mnp\u001b[38;5;241m.\u001b[39mmatmul(w3,np\u001b[38;5;241m.\u001b[39mones((\u001b[38;5;241m4\u001b[39m,\u001b[38;5;241m1\u001b[39m)))\u001b[38;5;241m*\u001b[39m\u001b[43mnp\u001b[49m\u001b[38;5;241;43m.\u001b[39;49m\u001b[43mmatmul\u001b[49m\u001b[43m(\u001b[49m\u001b[43ma2\u001b[49m\u001b[43m,\u001b[49m\u001b[43ma1\u001b[49m\u001b[38;5;241;43m.\u001b[39;49m\u001b[43mT\u001b[49m\u001b[43m)\u001b[49m\n\u001b[0;32m     17\u001b[0m     \u001b[38;5;28;01mreturn\u001b[39;00m w2\n",
      "\u001b[1;31mValueError\u001b[0m: matmul: Input operand 1 has a mismatch in its core dimension 0, with gufunc signature (n?,k),(k,m?)->(n?,m?) (size 3 is different from 4)"
     ]
    }
   ],
   "source": [
    "cost=[]\n",
    "for i in range(10000):\n",
    "    for j in range(x.shape[1]):\n",
    "        xn = x[:,j]\n",
    "        layer1.forward(xn)\n",
    "        o1= layer1.output\n",
    "        ao1=ActivationTanh(o1)\n",
    "        print(ao1.output.shape,\"l1\")\n",
    "        # print(layer1.output)\n",
    "        layer2.forward(ao1.output)\n",
    "        o2= layer2.output\n",
    "        ao2 = ActivationTanh(o2)\n",
    "        print(ao2.output.shape,\"l2\")\n",
    "        # print(ao2.output.shape)\n",
    "        layer3.forward(ao2.output)\n",
    "        o3= layer3.output\n",
    "        # ao3 = ActivationRelu(o3)\n",
    "        print(ao3.output.shape,\"l3\")\n",
    "        # layer4.forward(ao3.output)\n",
    "        # o4= layer4.output\n",
    "        # ao4 = ActivationRelu(o4)\n",
    "        # prob = Activation_softmax(o3)\n",
    "        ao3 = ActivationTanh(o3)\n",
    "        yhat =ao3\n",
    "        # loss = CrossEntropy()\n",
    "        loss= MSE()\n",
    "        l=loss.calculate(yhat.output,y[j])\n",
    "\n",
    "        ##Back propagation\n",
    "\n",
    "        # print(layer3.weights , \"old\")\n",
    "        layer3.weights = back_prop.backprop_l3(ao2.output,ao3.output,layer3.weights)\n",
    "        # print(layer3.weights)\n",
    "        # print(layer2.weights)\n",
    "        layer2.weights = back_prop.backprop_l2(layer3.weights,layer2.weights,ao2.output,ao1.output,ao3.output)\n",
    "        # print(layer2.weights)\n",
    "        # print(layer1.weights)\n",
    "        layer1.weights = back_prop.backprop_l1(layer1.weights,layer2.weights,layer3.weights,xn,ao1.output,ao2.output,ao3.output)\n",
    "        # print(layer1.weights)\n",
    "        cost.append(l)\n",
    "\n",
    "    # print(ao4.output.shape)\n",
    "    # print(prob.output,\"softmax\")\n",
    "# print(l)"
   ]
  },
  {
   "cell_type": "code",
   "execution_count": 184,
   "metadata": {},
   "outputs": [
    {
     "data": {
      "image/png": "[encoded data removed]",
      "text/plain": [
       "<Figure size 432x288 with 1 Axes>"
      ]
     },
     "metadata": {
      "needs_background": "light"
     },
     "output_type": "display_data"
    }
   ],
   "source": [
    "from matplotlib import pyplot as plt \n",
    "l=np.arange(1,len(cost)+1)\n",
    "plt.plot(l, cost, label = \"line 2\")\n",
    "  \n",
    "# naming the x axis\n",
    "plt.xlabel('iteration')\n",
    "# naming the y axis\n",
    "plt.ylabel('cost')\n",
    "# giving a title to my graph\n",
    "plt.title('Cost function LR!')\n",
    "  \n",
    "# show a legend on the plot\n",
    "plt.legend()\n",
    "  \n",
    "# function to show the plot\n",
    "plt.show()"
   ]
  },
  {
   "cell_type": "code",
   "execution_count": 175,
   "metadata": {},
   "outputs": [],
   "source": [
    "layer1.forward(X)\n",
    "o1= layer1.output\n",
    "ao1=ActivationTanh(o1)\n",
    "layer2.forward(ao1.output)\n",
    "o2= layer2.output\n",
    "ao2 = ActivationTanh(o2)\n",
    "layer3.forward(ao2.output)\n",
    "o3= layer3.output\n",
    "y_predict = ActivationTanh(o3)\n"
   ]
  },
  {
   "cell_type": "code",
   "execution_count": 176,
   "metadata": {},
   "outputs": [
    {
     "ename": "ValueError",
     "evalue": "cannot reshape array of size 1 into shape (10,1)",
     "output_type": "error",
     "traceback": [
      "\u001b[1;31m---------------------------------------------------------------------------\u001b[0m",
      "\u001b[1;31mValueError\u001b[0m                                Traceback (most recent call last)",
      "Input \u001b[1;32mIn [176]\u001b[0m, in \u001b[0;36m<cell line: 1>\u001b[1;34m()\u001b[0m\n\u001b[1;32m----> 1\u001b[0m ypredict\u001b[38;5;241m=\u001b[39m \u001b[43mnp\u001b[49m\u001b[38;5;241;43m.\u001b[39;49m\u001b[43mreshape\u001b[49m\u001b[43m(\u001b[49m\u001b[43my_predict\u001b[49m\u001b[43m,\u001b[49m\u001b[43m(\u001b[49m\u001b[38;5;241;43m10\u001b[39;49m\u001b[43m,\u001b[49m\u001b[38;5;241;43m1\u001b[39;49m\u001b[43m)\u001b[49m\u001b[43m)\u001b[49m\n\u001b[0;32m      2\u001b[0m y \u001b[38;5;241m=\u001b[39m np\u001b[38;5;241m.\u001b[39mreshape(y,(\u001b[38;5;241m10\u001b[39m,\u001b[38;5;241m1\u001b[39m))\n",
      "File \u001b[1;32m<__array_function__ internals>:5\u001b[0m, in \u001b[0;36mreshape\u001b[1;34m(*args, **kwargs)\u001b[0m\n",
      "File \u001b[1;32m~\\anaconda3\\lib\\site-packages\\numpy\\core\\fromnumeric.py:298\u001b[0m, in \u001b[0;36mreshape\u001b[1;34m(a, newshape, order)\u001b[0m\n\u001b[0;32m    198\u001b[0m \u001b[38;5;129m@array_function_dispatch\u001b[39m(_reshape_dispatcher)\n\u001b[0;32m    199\u001b[0m \u001b[38;5;28;01mdef\u001b[39;00m \u001b[38;5;21mreshape\u001b[39m(a, newshape, order\u001b[38;5;241m=\u001b[39m\u001b[38;5;124m'\u001b[39m\u001b[38;5;124mC\u001b[39m\u001b[38;5;124m'\u001b[39m):\n\u001b[0;32m    200\u001b[0m     \u001b[38;5;124;03m\"\"\"\u001b[39;00m\n\u001b[0;32m    201\u001b[0m \u001b[38;5;124;03m    Gives a new shape to an array without changing its data.\u001b[39;00m\n\u001b[0;32m    202\u001b[0m \n\u001b[1;32m   (...)\u001b[0m\n\u001b[0;32m    296\u001b[0m \u001b[38;5;124;03m           [5, 6]])\u001b[39;00m\n\u001b[0;32m    297\u001b[0m \u001b[38;5;124;03m    \"\"\"\u001b[39;00m\n\u001b[1;32m--> 298\u001b[0m     \u001b[38;5;28;01mreturn\u001b[39;00m \u001b[43m_wrapfunc\u001b[49m\u001b[43m(\u001b[49m\u001b[43ma\u001b[49m\u001b[43m,\u001b[49m\u001b[43m \u001b[49m\u001b[38;5;124;43m'\u001b[39;49m\u001b[38;5;124;43mreshape\u001b[39;49m\u001b[38;5;124;43m'\u001b[39;49m\u001b[43m,\u001b[49m\u001b[43m \u001b[49m\u001b[43mnewshape\u001b[49m\u001b[43m,\u001b[49m\u001b[43m \u001b[49m\u001b[43morder\u001b[49m\u001b[38;5;241;43m=\u001b[39;49m\u001b[43morder\u001b[49m\u001b[43m)\u001b[49m\n",
      "File \u001b[1;32m~\\anaconda3\\lib\\site-packages\\numpy\\core\\fromnumeric.py:54\u001b[0m, in \u001b[0;36m_wrapfunc\u001b[1;34m(obj, method, *args, **kwds)\u001b[0m\n\u001b[0;32m     52\u001b[0m bound \u001b[38;5;241m=\u001b[39m \u001b[38;5;28mgetattr\u001b[39m(obj, method, \u001b[38;5;28;01mNone\u001b[39;00m)\n\u001b[0;32m     53\u001b[0m \u001b[38;5;28;01mif\u001b[39;00m bound \u001b[38;5;129;01mis\u001b[39;00m \u001b[38;5;28;01mNone\u001b[39;00m:\n\u001b[1;32m---> 54\u001b[0m     \u001b[38;5;28;01mreturn\u001b[39;00m _wrapit(obj, method, \u001b[38;5;241m*\u001b[39margs, \u001b[38;5;241m*\u001b[39m\u001b[38;5;241m*\u001b[39mkwds)\n\u001b[0;32m     56\u001b[0m \u001b[38;5;28;01mtry\u001b[39;00m:\n\u001b[0;32m     57\u001b[0m     \u001b[38;5;28;01mreturn\u001b[39;00m bound(\u001b[38;5;241m*\u001b[39margs, \u001b[38;5;241m*\u001b[39m\u001b[38;5;241m*\u001b[39mkwds)\n",
      "File \u001b[1;32m~\\anaconda3\\lib\\site-packages\\numpy\\core\\fromnumeric.py:43\u001b[0m, in \u001b[0;36m_wrapit\u001b[1;34m(obj, method, *args, **kwds)\u001b[0m\n\u001b[0;32m     41\u001b[0m \u001b[38;5;28;01mexcept\u001b[39;00m \u001b[38;5;167;01mAttributeError\u001b[39;00m:\n\u001b[0;32m     42\u001b[0m     wrap \u001b[38;5;241m=\u001b[39m \u001b[38;5;28;01mNone\u001b[39;00m\n\u001b[1;32m---> 43\u001b[0m result \u001b[38;5;241m=\u001b[39m \u001b[38;5;28mgetattr\u001b[39m(asarray(obj), method)(\u001b[38;5;241m*\u001b[39margs, \u001b[38;5;241m*\u001b[39m\u001b[38;5;241m*\u001b[39mkwds)\n\u001b[0;32m     44\u001b[0m \u001b[38;5;28;01mif\u001b[39;00m wrap:\n\u001b[0;32m     45\u001b[0m     \u001b[38;5;28;01mif\u001b[39;00m \u001b[38;5;129;01mnot\u001b[39;00m \u001b[38;5;28misinstance\u001b[39m(result, mu\u001b[38;5;241m.\u001b[39mndarray):\n",
      "\u001b[1;31mValueError\u001b[0m: cannot reshape array of size 1 into shape (10,1)"
     ]
    }
   ],
   "source": [
    "ypredict= np.reshape(y_predict,(10,1))\n",
    "y = np.reshape(y,(10,1))"
   ]
  },
  {
   "cell_type": "code",
   "execution_count": 6,
   "metadata": {},
   "outputs": [],
   "source": [
    "import scipy as sp\n",
    "import sympy as smp\n",
    "from sympy import * \n",
    "from scipy.misc import derivative"
   ]
  },
  {
   "cell_type": "code",
   "execution_count": 170,
   "metadata": {},
   "outputs": [],
   "source": [
    "w1,w2,w3,x,y = smp.symbols('w1 w2 w3 x y',real=True)\n",
    "l1=smp.tanh(x * w1)\n",
    "l2=smp.tanh(l1 * w2)\n",
    "f= smp.tanh(l2*w3)-y"
   ]
  },
  {
   "cell_type": "code",
   "execution_count": 114,
   "metadata": {},
   "outputs": [
    {
     "data": {
      "text/latex": [
       "$\\displaystyle \\left(1 - \\tanh^{2}{\\left(w_{3} \\tanh{\\left(w_{2} \\tanh{\\left(w_{1} x \\right)} \\right)} \\right)}\\right) \\tanh{\\left(w_{2} \\tanh{\\left(w_{1} x \\right)} \\right)}$"
      ],
      "text/plain": [
       "(1 - tanh(w3*tanh(w2*tanh(w1*x)))**2)*tanh(w2*tanh(w1*x))"
      ]
     },
     "execution_count": 114,
     "metadata": {},
     "output_type": "execute_result"
    }
   ],
   "source": [
    "dldw3= smp.diff(f,w3)\n",
    "dldw3"
   ]
  },
  {
   "cell_type": "code",
   "execution_count": 115,
   "metadata": {},
   "outputs": [
    {
     "data": {
      "text/latex": [
       "$\\displaystyle w_{3} \\cdot \\left(1 - \\tanh^{2}{\\left(w_{2} \\tanh{\\left(w_{1} x \\right)} \\right)}\\right) \\left(1 - \\tanh^{2}{\\left(w_{3} \\tanh{\\left(w_{2} \\tanh{\\left(w_{1} x \\right)} \\right)} \\right)}\\right) \\tanh{\\left(w_{1} x \\right)}$"
      ],
      "text/plain": [
       "w3*(1 - tanh(w2*tanh(w1*x))**2)*(1 - tanh(w3*tanh(w2*tanh(w1*x)))**2)*tanh(w1*x)"
      ]
     },
     "execution_count": 115,
     "metadata": {},
     "output_type": "execute_result"
    }
   ],
   "source": [
    "dldw2  = smp.diff(f,w2)\n",
    "dldw2"
   ]
  },
  {
   "cell_type": "code",
   "execution_count": 116,
   "metadata": {},
   "outputs": [
    {
     "data": {
      "text/latex": [
       "$\\displaystyle w_{2} w_{3} x \\left(1 - \\tanh^{2}{\\left(w_{1} x \\right)}\\right) \\left(1 - \\tanh^{2}{\\left(w_{2} \\tanh{\\left(w_{1} x \\right)} \\right)}\\right) \\left(1 - \\tanh^{2}{\\left(w_{3} \\tanh{\\left(w_{2} \\tanh{\\left(w_{1} x \\right)} \\right)} \\right)}\\right)$"
      ],
      "text/plain": [
       "w2*w3*x*(1 - tanh(w1*x)**2)*(1 - tanh(w2*tanh(w1*x))**2)*(1 - tanh(w3*tanh(w2*tanh(w1*x)))**2)"
      ]
     },
     "execution_count": 116,
     "metadata": {},
     "output_type": "execute_result"
    }
   ],
   "source": [
    "dldw1 = smp.diff(f,w1)\n",
    "dldw1"
   ]
  },
  {
   "cell_type": "code",
   "execution_count": 113,
   "metadata": {},
   "outputs": [],
   "source": []
  },
  {
   "cell_type": "code",
   "execution_count": null,
   "metadata": {},
   "outputs": [],
   "source": [
    "w1,w2,w3,x,y = smp.symbols('w1 w2 w3 x y',real=True)\n",
    "l1=smp.Piecewise(((x * w1), (x*w1)>=0),(0,(x*w1)<0))\n",
    "l2=smp.Piecewise(((l1 * w2), (l1*w2)>=0),(0,(l1*w2)<0))\n",
    "f= smp.Piecewise(((l2*w3),(l2*w3)>=0),(0,(l2*w3)<0))-y"
   ]
  },
  {
   "cell_type": "code",
   "execution_count": 64,
   "metadata": {},
   "outputs": [
    {
     "data": {
      "text/plain": [
       "(1, 1)"
      ]
     },
     "execution_count": 64,
     "metadata": {},
     "output_type": "execute_result"
    }
   ],
   "source": [
    "a= 0.001 * ao2.output\n",
    "a = np.matmul(ao2.output.T , ao2.output) \n",
    "a.shape"
   ]
  },
  {
   "cell_type": "code",
   "execution_count": null,
   "metadata": {},
   "outputs": [],
   "source": [
    "\n",
    "# layer1.forward(X)\n",
    "# o1= layer1.output\n",
    "# ao1=ActivationTanh(o1)\n",
    "# # print(ao1.output,\"l1\")\n",
    "# # print(layer1.output)\n",
    "# layer2.forward(ao1.output)\n",
    "# o2= layer2.output\n",
    "# ao2 = ActivationTanh(o2)\n",
    "# # print(ao2.output,\"l2\")\n",
    "# layer3.forward(ao2.output)\n",
    "# o3= layer3.output\n",
    "# # ao3 = ActivationRelu(o3)\n",
    "# # print(ao3.output,\"l3\")\n",
    "# # layer4.forward(ao3.output)\n",
    "# # o4= layer4.output\n",
    "# # ao4 = ActivationRelu(o4)\n",
    "# prob = Activation_softmax(o3)\n",
    "# loss = CrossEntropy()\n",
    "# l=loss.calculate(prob.output,y_a)\n",
    "\n",
    "# ##Back propagation\n",
    "\n",
    "# print(layer3.weights)\n",
    "# layer3.weights = layer3.backprop_l3(ao2,layer3.weights)\n",
    "# print(layer3.weights)\n",
    "# print(layer2.weights)\n",
    "# layer2.weights = layer2.backprop_l2(layer3.weights,layer2.weights,ao2,ao1)\n",
    "# print(layer2.weights)\n",
    "# print(layer1.weights)\n",
    "# layer1.weights = layer1.backprop_l1(layer1.weights,layer2.weights,layer3.weights,X,ao1,ao2)\n",
    "# print(layer1.weights)\n",
    "\n",
    "\n",
    "# # print(ao4.output.shape)\n",
    "# # print(prob.output,\"softmax\")\n",
    "# print(l)"
   ]
  }
 ],
 "metadata": {
  "kernelspec": {
   "display_name": "Python 3 (ipykernel)",
   "language": "python",
   "name": "python3"
  },
  "language_info": {
   "codemirror_mode": {
    "name": "ipython",
    "version": 3
   },
   "file_extension": ".py",
   "mimetype": "text/x-python",
   "name": "python",
   "nbconvert_exporter": "python",
   "pygments_lexer": "ipython3",
   "version": "3.9.12"
  }
 },
 "nbformat": 4,
 "nbformat_minor": 4
}
