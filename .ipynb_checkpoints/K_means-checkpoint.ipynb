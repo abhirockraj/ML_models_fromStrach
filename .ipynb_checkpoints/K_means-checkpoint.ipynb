{
 "cells": [
  {
   "cell_type": "code",
   "execution_count": 1,
   "id": "fb6d5f9c-2153-4faf-b39e-2be566e5bb74",
   "metadata": {},
   "outputs": [],
   "source": [
    "import pandas as pd\n",
    "import numpy as np\n",
    "from matplotlib import pyplot as plt\n",
    "from sklearn.model_selection import train_test_split\n",
    "np.random.seed(15345030)"
   ]
  },
  {
   "cell_type": "code",
   "execution_count": 2,
   "id": "df9608c7-a366-422a-9996-d2324efbc1ba",
   "metadata": {},
   "outputs": [
    {
     "data": {
      "text/html": [
       "<div>\n",
       "<style scoped>\n",
       "    .dataframe tbody tr th:only-of-type {\n",
       "        vertical-align: middle;\n",
       "    }\n",
       "\n",
       "    .dataframe tbody tr th {\n",
       "        vertical-align: top;\n",
       "    }\n",
       "\n",
       "    .dataframe thead th {\n",
       "        text-align: right;\n",
       "    }\n",
       "</style>\n",
       "<table border=\"1\" class=\"dataframe\">\n",
       "  <thead>\n",
       "    <tr style=\"text-align: right;\">\n",
       "      <th></th>\n",
       "      <th>sepal_length</th>\n",
       "      <th>sepal_width</th>\n",
       "      <th>petal_length</th>\n",
       "      <th>petal_width</th>\n",
       "      <th>species</th>\n",
       "    </tr>\n",
       "  </thead>\n",
       "  <tbody>\n",
       "    <tr>\n",
       "      <th>0</th>\n",
       "      <td>5.1</td>\n",
       "      <td>3.5</td>\n",
       "      <td>1.4</td>\n",
       "      <td>0.2</td>\n",
       "      <td>setosa</td>\n",
       "    </tr>\n",
       "    <tr>\n",
       "      <th>1</th>\n",
       "      <td>4.9</td>\n",
       "      <td>3.0</td>\n",
       "      <td>1.4</td>\n",
       "      <td>0.2</td>\n",
       "      <td>setosa</td>\n",
       "    </tr>\n",
       "    <tr>\n",
       "      <th>2</th>\n",
       "      <td>4.7</td>\n",
       "      <td>3.2</td>\n",
       "      <td>1.3</td>\n",
       "      <td>0.2</td>\n",
       "      <td>setosa</td>\n",
       "    </tr>\n",
       "    <tr>\n",
       "      <th>3</th>\n",
       "      <td>4.6</td>\n",
       "      <td>3.1</td>\n",
       "      <td>1.5</td>\n",
       "      <td>0.2</td>\n",
       "      <td>setosa</td>\n",
       "    </tr>\n",
       "    <tr>\n",
       "      <th>4</th>\n",
       "      <td>5.0</td>\n",
       "      <td>3.6</td>\n",
       "      <td>1.4</td>\n",
       "      <td>0.2</td>\n",
       "      <td>setosa</td>\n",
       "    </tr>\n",
       "  </tbody>\n",
       "</table>\n",
       "</div>"
      ],
      "text/plain": [
       "   sepal_length  sepal_width  petal_length  petal_width species\n",
       "0           5.1          3.5           1.4          0.2  setosa\n",
       "1           4.9          3.0           1.4          0.2  setosa\n",
       "2           4.7          3.2           1.3          0.2  setosa\n",
       "3           4.6          3.1           1.5          0.2  setosa\n",
       "4           5.0          3.6           1.4          0.2  setosa"
      ]
     },
     "execution_count": 2,
     "metadata": {},
     "output_type": "execute_result"
    }
   ],
   "source": [
    "df = pd.read_csv(\"iris.csv\",index_col=False)\n",
    "df.head()"
   ]
  },
  {
   "cell_type": "code",
   "execution_count": 3,
   "id": "989b6472-583d-4281-af64-77a5e2ed3763",
   "metadata": {},
   "outputs": [
    {
     "data": {
      "text/plain": [
       "array(['setosa', 'versicolor', 'virginica'], dtype=object)"
      ]
     },
     "execution_count": 3,
     "metadata": {},
     "output_type": "execute_result"
    }
   ],
   "source": [
    "df['species'].unique()"
   ]
  },
  {
   "cell_type": "code",
   "execution_count": 4,
   "id": "a700149e-b301-4058-bda8-e4468a1431e8",
   "metadata": {},
   "outputs": [],
   "source": [
    "df['species'] = df['species'].replace(['setosa', 'versicolor', 'virginica'],[0,1,2])"
   ]
  },
  {
   "cell_type": "code",
   "execution_count": 5,
   "id": "b43033b1-29da-44a2-9bd1-e4be74435bd7",
   "metadata": {},
   "outputs": [
    {
     "data": {
      "text/html": [
       "<div>\n",
       "<style scoped>\n",
       "    .dataframe tbody tr th:only-of-type {\n",
       "        vertical-align: middle;\n",
       "    }\n",
       "\n",
       "    .dataframe tbody tr th {\n",
       "        vertical-align: top;\n",
       "    }\n",
       "\n",
       "    .dataframe thead th {\n",
       "        text-align: right;\n",
       "    }\n",
       "</style>\n",
       "<table border=\"1\" class=\"dataframe\">\n",
       "  <thead>\n",
       "    <tr style=\"text-align: right;\">\n",
       "      <th></th>\n",
       "      <th>sepal_length</th>\n",
       "      <th>sepal_width</th>\n",
       "      <th>petal_length</th>\n",
       "      <th>petal_width</th>\n",
       "      <th>species</th>\n",
       "    </tr>\n",
       "  </thead>\n",
       "  <tbody>\n",
       "    <tr>\n",
       "      <th>0</th>\n",
       "      <td>5.1</td>\n",
       "      <td>3.5</td>\n",
       "      <td>1.4</td>\n",
       "      <td>0.2</td>\n",
       "      <td>0</td>\n",
       "    </tr>\n",
       "    <tr>\n",
       "      <th>1</th>\n",
       "      <td>4.9</td>\n",
       "      <td>3.0</td>\n",
       "      <td>1.4</td>\n",
       "      <td>0.2</td>\n",
       "      <td>0</td>\n",
       "    </tr>\n",
       "    <tr>\n",
       "      <th>2</th>\n",
       "      <td>4.7</td>\n",
       "      <td>3.2</td>\n",
       "      <td>1.3</td>\n",
       "      <td>0.2</td>\n",
       "      <td>0</td>\n",
       "    </tr>\n",
       "    <tr>\n",
       "      <th>3</th>\n",
       "      <td>4.6</td>\n",
       "      <td>3.1</td>\n",
       "      <td>1.5</td>\n",
       "      <td>0.2</td>\n",
       "      <td>0</td>\n",
       "    </tr>\n",
       "    <tr>\n",
       "      <th>4</th>\n",
       "      <td>5.0</td>\n",
       "      <td>3.6</td>\n",
       "      <td>1.4</td>\n",
       "      <td>0.2</td>\n",
       "      <td>0</td>\n",
       "    </tr>\n",
       "  </tbody>\n",
       "</table>\n",
       "</div>"
      ],
      "text/plain": [
       "   sepal_length  sepal_width  petal_length  petal_width  species\n",
       "0           5.1          3.5           1.4          0.2        0\n",
       "1           4.9          3.0           1.4          0.2        0\n",
       "2           4.7          3.2           1.3          0.2        0\n",
       "3           4.6          3.1           1.5          0.2        0\n",
       "4           5.0          3.6           1.4          0.2        0"
      ]
     },
     "execution_count": 5,
     "metadata": {},
     "output_type": "execute_result"
    }
   ],
   "source": [
    "df.head()"
   ]
  },
  {
   "cell_type": "code",
   "execution_count": 6,
   "id": "f3619be1-48d2-4235-a5db-86a67abbc36e",
   "metadata": {},
   "outputs": [
    {
     "data": {
      "image/png": "[encoded data removed]",
      "text/plain": [
       "<Figure size 864x720 with 1 Axes>"
      ]
     },
     "metadata": {
      "needs_background": "light"
     },
     "output_type": "display_data"
    }
   ],
   "source": [
    "x = df.drop(['species'],axis=1)\n",
    "y = df['species']\n",
    "fig = plt.figure() \n",
    "fig.set_size_inches(12,10)\n",
    "plt.scatter(x['sepal_length'],x['sepal_width'],x['petal_length'],x['petal_width'],marker= \"X\",sizes = [10])\n",
    "plt.show()"
   ]
  },
  {
   "cell_type": "markdown",
   "id": "fa75a1be-5aa4-4650-bbe6-e8f746141e96",
   "metadata": {},
   "source": [
    "## Applying K_means from sklearn"
   ]
  },
  {
   "cell_type": "code",
   "execution_count": 7,
   "id": "adad2710-611b-4dc0-a8bf-6f08e9cb69f0",
   "metadata": {},
   "outputs": [],
   "source": [
    "X_train, X_test, y_train, y_test = train_test_split(x, y, random_state=42, train_size = 0.9)"
   ]
  },
  {
   "cell_type": "markdown",
   "id": "bb9f3e4e-6d10-4fc4-962f-fa09d3623a3d",
   "metadata": {},
   "source": [
    "## Initialing the centroid with best X_train example to fit the centroid"
   ]
  },
  {
   "cell_type": "code",
   "execution_count": 8,
   "id": "a2a58900-7ceb-4a20-8ef3-ea78f79f4b5d",
   "metadata": {},
   "outputs": [
    {
     "data": {
      "text/plain": [
       "(135, 4)"
      ]
     },
     "execution_count": 8,
     "metadata": {},
     "output_type": "execute_result"
    }
   ],
   "source": [
    "x_t = np.asarray(X_train)\n",
    "x_test = np.asarray(X_test)\n",
    "x_t.shape"
   ]
  },
  {
   "cell_type": "code",
   "execution_count": 12,
   "id": "27f1c437-4954-41cc-aa4c-12fb784bbe8f",
   "metadata": {},
   "outputs": [],
   "source": [
    "no_of_clusters=3\n",
    "j=100\n",
    "# print(a)\n",
    "for i in range(1000):\n",
    "    k= np.array([])\n",
    "    a= np.random.randint(low= x_t.shape[0],size=no_of_clusters)\n",
    "    for j in a: \n",
    "        b = np.reshape(x_t[j,:],(1,x_t[j,:].shape[0]))\n",
    "        k = np.append(k,b)\n",
    "    k = np.reshape(k , (no_of_clusters,x_t[j,:].shape[0]))\n",
    "    # print(k.shape)\n",
    "    c=np.sum((np.minimum(np.square(x_t-k[0][:]) ,np.square(x_t-k[1][:]),np.square(x_t-k[2][:]))))\n",
    "    # print(c)\n",
    "    if( j > c):\n",
    "        \n",
    "        j = c\n",
    "        k_final = k\n",
    "        print(k_final,j)\n",
    "# print(x_t[a][:].shape)   \n",
    "       \n",
    "    \n",
    "        \n",
    "    "
   ]
  },
  {
   "cell_type": "markdown",
   "id": "d835f231-b488-4c64-af6b-475266a4a695",
   "metadata": {},
   "source": [
    "##  Creating  the training loop after K_means centroids "
   ]
  },
  {
   "cell_type": "code",
   "execution_count": 11,
   "id": "3e56a5b8-f9a0-49c5-9907-9714b31c5e75",
   "metadata": {},
   "outputs": [
    {
     "ename": "ValueError",
     "evalue": "operands could not be broadcast together with shapes (5,) (4,) ",
     "output_type": "error",
     "traceback": [
      "\u001b[1;31m---------------------------------------------------------------------------\u001b[0m",
      "\u001b[1;31mValueError\u001b[0m                                Traceback (most recent call last)",
      "Input \u001b[1;32mIn [11]\u001b[0m, in \u001b[0;36m<cell line: 2>\u001b[1;34m()\u001b[0m\n\u001b[0;32m      4\u001b[0m d\u001b[38;5;241m=\u001b[39m[]\n\u001b[0;32m      5\u001b[0m \u001b[38;5;28;01mfor\u001b[39;00m j \u001b[38;5;129;01min\u001b[39;00m \u001b[38;5;28mrange\u001b[39m(x_t\u001b[38;5;241m.\u001b[39mshape[\u001b[38;5;241m0\u001b[39m]):\n\u001b[1;32m----> 6\u001b[0m     a\u001b[38;5;241m=\u001b[39mnp\u001b[38;5;241m.\u001b[39msquare(np\u001b[38;5;241m.\u001b[39msum(\u001b[43mx_t\u001b[49m\u001b[43m[\u001b[49m\u001b[43mj\u001b[49m\u001b[43m]\u001b[49m\u001b[43m[\u001b[49m\u001b[43m:\u001b[49m\u001b[43m]\u001b[49m\u001b[38;5;241;43m-\u001b[39;49m\u001b[43mk\u001b[49m\u001b[43m[\u001b[49m\u001b[38;5;241;43m0\u001b[39;49m\u001b[43m]\u001b[49m\u001b[43m[\u001b[49m\u001b[43m:\u001b[49m\u001b[43m]\u001b[49m))\n\u001b[0;32m      7\u001b[0m     b\u001b[38;5;241m=\u001b[39mnp\u001b[38;5;241m.\u001b[39msquare(np\u001b[38;5;241m.\u001b[39msum(x_t[j][:]\u001b[38;5;241m-\u001b[39mk[\u001b[38;5;241m1\u001b[39m][:]))\n\u001b[0;32m      8\u001b[0m     c\u001b[38;5;241m=\u001b[39mnp\u001b[38;5;241m.\u001b[39msquare(np\u001b[38;5;241m.\u001b[39msum(x_t[j][:]\u001b[38;5;241m-\u001b[39mk[\u001b[38;5;241m2\u001b[39m][:]))\n",
      "\u001b[1;31mValueError\u001b[0m: operands could not be broadcast together with shapes (5,) (4,) "
     ]
    }
   ],
   "source": [
    "epoch =10\n",
    "for i in range(epoch):\n",
    "#     assiginig points to cluster centroids\n",
    "    d=[]\n",
    "    for j in range(x_t.shape[0]):\n",
    "        a=np.square(np.sum(x_t[j][:]-k[0][:]))\n",
    "        b=np.square(np.sum(x_t[j][:]-k[1][:]))\n",
    "        c=np.square(np.sum(x_t[j][:]-k[2][:]))\n",
    "        d.append(np.argmin([a,b,c]))\n",
    "    \n",
    "    d = np.asarray(d)\n",
    "    d=  np.reshape(d,(len(d),1))\n",
    "    # print(d.shape)\n",
    "    x_t = np.append(x_t,d,axis=1)\n",
    "    # print(x_t.shape)                          \n",
    "#     move the cluster centroid\n",
    "    k2= np.array([])\n",
    "    for n in range(no_of_clusters):\n",
    "        a1 = x_t[np.where(x_t[:,-1]==n)]\n",
    "        # for l1 in a1[:,-2]:\n",
    "        print(a1[:,-2].shape)\n",
    "            \n",
    "        \n",
    "    #     print(a1.shape)\n",
    "    #     b=np.mean(a1[:,:-2],axis=0,keepdims=True)\n",
    "    #     b = np.reshape(b,(1,b.shape[0]))\n",
    "    #     print(b.shape)\n",
    "    #     k2 = np.append(k2,b)\n",
    "    #     print(k2.shape)\n",
    "    # x_t = np.delete(x_t,-1,1)\n",
    "    # k2 = np.reshape(k2 , (no_of_clusters,x_t[j,:].shape[0]-1))\n",
    "    # k=k2\n",
    "    # print(k.shape)\n",
    "            \n",
    "    \n",
    "    # print(x_t.shape)\n",
    "    \n",
    "        "
   ]
  },
  {
   "cell_type": "code",
   "execution_count": null,
   "id": "2afab94b-bfa1-420d-8cf8-f4809c7ff4f4",
   "metadata": {},
   "outputs": [],
   "source": []
  }
 ],
 "metadata": {
  "kernelspec": {
   "display_name": "Python 3 (ipykernel)",
   "language": "python",
   "name": "python3"
  },
  "language_info": {
   "codemirror_mode": {
    "name": "ipython",
    "version": 3
   },
   "file_extension": ".py",
   "mimetype": "text/x-python",
   "name": "python",
   "nbconvert_exporter": "python",
   "pygments_lexer": "ipython3",
   "version": "3.9.12"
  }
 },
 "nbformat": 4,
 "nbformat_minor": 5
}
